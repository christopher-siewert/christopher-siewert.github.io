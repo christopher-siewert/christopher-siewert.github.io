{
 "cells": [
  {
   "cell_type": "raw",
   "metadata": {},
   "source": [
    "---\n",
    "layout: post\n",
    "title: \"Perpetual Funding Rate ARIMA Models\"\n",
    "categories:\n",
    "  - Investments\n",
    "tags:\n",
    "  - bitcoin\n",
    "  - futures\n",
    "  - deribit\n",
    "  - python\n",
    "  - jupyter\n",
    "  - arbitrage\n",
    "---\n"
   ]
  },
  {
   "cell_type": "code",
   "execution_count": 2,
   "metadata": {},
   "outputs": [],
   "source": [
    "import numpy as np\n",
    "import pandas as pd\n",
    "import matplotlib.pyplot as plt\n",
    "import scipy\n",
    "from matplotlib import style\n",
    "import seaborn as sns\n",
    "from IPython.core.pylabtools import figsize\n",
    "import warnings\n",
    "import statsmodels.api as sm\n",
    "\n",
    "%matplotlib inline\n",
    "plt.style.use('ggplot')"
   ]
  },
  {
   "cell_type": "code",
   "execution_count": 3,
   "metadata": {},
   "outputs": [],
   "source": [
    "np.random.seed(2019)"
   ]
  },
  {
   "cell_type": "code",
   "execution_count": 4,
   "metadata": {},
   "outputs": [],
   "source": [
    "# Read all historical sales data and index data\n",
    "df = pd.read_csv('downloads/BTC-PERPETUAL.txt')"
   ]
  },
  {
   "cell_type": "code",
   "execution_count": 5,
   "metadata": {},
   "outputs": [],
   "source": [
    "# Properly index the pandas dataframe\n",
    "df['date'] = pd.to_datetime(df['timestamp'], unit='ms')\n",
    "df.index = df['date']\n",
    "df = df.drop(columns=['timestamp', 'date'])\n",
    "df.columns = ['date', 'perpetual', 'index']"
   ]
  },
  {
   "cell_type": "code",
   "execution_count": 6,
   "metadata": {},
   "outputs": [],
   "source": [
    "df['ratio'] = df['perpetual'] / df['index']"
   ]
  },
  {
   "cell_type": "code",
   "execution_count": 7,
   "metadata": {},
   "outputs": [
    {
     "data": {
      "text/html": [
       "<div>\n",
       "<style scoped>\n",
       "    .dataframe tbody tr th:only-of-type {\n",
       "        vertical-align: middle;\n",
       "    }\n",
       "\n",
       "    .dataframe tbody tr th {\n",
       "        vertical-align: top;\n",
       "    }\n",
       "\n",
       "    .dataframe thead th {\n",
       "        text-align: right;\n",
       "    }\n",
       "</style>\n",
       "<table border=\"1\" class=\"dataframe\">\n",
       "  <thead>\n",
       "    <tr style=\"text-align: right;\">\n",
       "      <th></th>\n",
       "      <th>perpetual</th>\n",
       "      <th>index</th>\n",
       "      <th>ratio</th>\n",
       "    </tr>\n",
       "  </thead>\n",
       "  <tbody>\n",
       "    <tr>\n",
       "      <th>count</th>\n",
       "      <td>2.739576e+07</td>\n",
       "      <td>2.739576e+07</td>\n",
       "      <td>2.739576e+07</td>\n",
       "    </tr>\n",
       "    <tr>\n",
       "      <th>mean</th>\n",
       "      <td>8.793806e+03</td>\n",
       "      <td>8.790548e+03</td>\n",
       "      <td>1.000265e+00</td>\n",
       "    </tr>\n",
       "    <tr>\n",
       "      <th>std</th>\n",
       "      <td>2.473821e+03</td>\n",
       "      <td>2.470238e+03</td>\n",
       "      <td>2.642148e-03</td>\n",
       "    </tr>\n",
       "    <tr>\n",
       "      <th>min</th>\n",
       "      <td>3.121500e+03</td>\n",
       "      <td>3.126330e+03</td>\n",
       "      <td>8.501664e-01</td>\n",
       "    </tr>\n",
       "    <tr>\n",
       "      <th>25%</th>\n",
       "      <td>7.703750e+03</td>\n",
       "      <td>7.701290e+03</td>\n",
       "      <td>9.996183e-01</td>\n",
       "    </tr>\n",
       "    <tr>\n",
       "      <th>50%</th>\n",
       "      <td>9.444000e+03</td>\n",
       "      <td>9.442560e+03</td>\n",
       "      <td>1.000240e+00</td>\n",
       "    </tr>\n",
       "    <tr>\n",
       "      <th>75%</th>\n",
       "      <td>1.056100e+04</td>\n",
       "      <td>1.055535e+04</td>\n",
       "      <td>1.000883e+00</td>\n",
       "    </tr>\n",
       "    <tr>\n",
       "      <th>max</th>\n",
       "      <td>1.391450e+04</td>\n",
       "      <td>1.385573e+04</td>\n",
       "      <td>1.251092e+00</td>\n",
       "    </tr>\n",
       "  </tbody>\n",
       "</table>\n",
       "</div>"
      ],
      "text/plain": [
       "          perpetual         index         ratio\n",
       "count  2.739576e+07  2.739576e+07  2.739576e+07\n",
       "mean   8.793806e+03  8.790548e+03  1.000265e+00\n",
       "std    2.473821e+03  2.470238e+03  2.642148e-03\n",
       "min    3.121500e+03  3.126330e+03  8.501664e-01\n",
       "25%    7.703750e+03  7.701290e+03  9.996183e-01\n",
       "50%    9.444000e+03  9.442560e+03  1.000240e+00\n",
       "75%    1.056100e+04  1.055535e+04  1.000883e+00\n",
       "max    1.391450e+04  1.385573e+04  1.251092e+00"
      ]
     },
     "execution_count": 7,
     "metadata": {},
     "output_type": "execute_result"
    }
   ],
   "source": [
    "df.describe()"
   ]
  },
  {
   "cell_type": "code",
   "execution_count": 6,
   "metadata": {},
   "outputs": [],
   "source": [
    "df_D = df.resample('D').last().interpolate()"
   ]
  },
  {
   "cell_type": "code",
   "execution_count": 80,
   "metadata": {},
   "outputs": [
    {
     "data": {
      "text/html": [
       "<div>\n",
       "<style scoped>\n",
       "    .dataframe tbody tr th:only-of-type {\n",
       "        vertical-align: middle;\n",
       "    }\n",
       "\n",
       "    .dataframe tbody tr th {\n",
       "        vertical-align: top;\n",
       "    }\n",
       "\n",
       "    .dataframe thead th {\n",
       "        text-align: right;\n",
       "    }\n",
       "</style>\n",
       "<table border=\"1\" class=\"dataframe\">\n",
       "  <thead>\n",
       "    <tr style=\"text-align: right;\">\n",
       "      <th></th>\n",
       "      <th>perpetual</th>\n",
       "      <th>index</th>\n",
       "      <th>ratio</th>\n",
       "    </tr>\n",
       "  </thead>\n",
       "  <tbody>\n",
       "    <tr>\n",
       "      <th>count</th>\n",
       "      <td>1338.000000</td>\n",
       "      <td>1338.000000</td>\n",
       "      <td>1338.000000</td>\n",
       "    </tr>\n",
       "    <tr>\n",
       "      <th>mean</th>\n",
       "      <td>6772.631726</td>\n",
       "      <td>6771.830643</td>\n",
       "      <td>0.999992</td>\n",
       "    </tr>\n",
       "    <tr>\n",
       "      <th>std</th>\n",
       "      <td>2595.348401</td>\n",
       "      <td>2592.762525</td>\n",
       "      <td>0.000808</td>\n",
       "    </tr>\n",
       "    <tr>\n",
       "      <th>min</th>\n",
       "      <td>3140.000000</td>\n",
       "      <td>3141.320000</td>\n",
       "      <td>0.995980</td>\n",
       "    </tr>\n",
       "    <tr>\n",
       "      <th>25%</th>\n",
       "      <td>3991.250000</td>\n",
       "      <td>3992.470000</td>\n",
       "      <td>0.999481</td>\n",
       "    </tr>\n",
       "    <tr>\n",
       "      <th>50%</th>\n",
       "      <td>6431.250000</td>\n",
       "      <td>6433.255000</td>\n",
       "      <td>0.999993</td>\n",
       "    </tr>\n",
       "    <tr>\n",
       "      <th>75%</th>\n",
       "      <td>8747.250000</td>\n",
       "      <td>8739.232500</td>\n",
       "      <td>1.000493</td>\n",
       "    </tr>\n",
       "    <tr>\n",
       "      <th>max</th>\n",
       "      <td>12937.500000</td>\n",
       "      <td>12926.800000</td>\n",
       "      <td>1.003497</td>\n",
       "    </tr>\n",
       "  </tbody>\n",
       "</table>\n",
       "</div>"
      ],
      "text/plain": [
       "          perpetual         index        ratio\n",
       "count   1338.000000   1338.000000  1338.000000\n",
       "mean    6772.631726   6771.830643     0.999992\n",
       "std     2595.348401   2592.762525     0.000808\n",
       "min     3140.000000   3141.320000     0.995980\n",
       "25%     3991.250000   3992.470000     0.999481\n",
       "50%     6431.250000   6433.255000     0.999993\n",
       "75%     8747.250000   8739.232500     1.000493\n",
       "max    12937.500000  12926.800000     1.003497"
      ]
     },
     "execution_count": 80,
     "metadata": {},
     "output_type": "execute_result"
    }
   ],
   "source": [
    "df.resample('8H').last().interpolate().describe()"
   ]
  },
  {
   "cell_type": "code",
   "execution_count": 7,
   "metadata": {},
   "outputs": [],
   "source": [
    "df_D.to_csv('daily_perpetual_spot_ratio.csv')"
   ]
  },
  {
   "cell_type": "code",
   "execution_count": 29,
   "metadata": {},
   "outputs": [
    {
     "data": {
      "image/png": "[encoded data removed]",
      "text/plain": [
       "<Figure size 504x216 with 1 Axes>"
      ]
     },
     "metadata": {},
     "output_type": "display_data"
    }
   ],
   "source": [
    "figsize(7,3)\n",
    "df_D.plot(y=['perpetual', 'index'])\n",
    "plt.ylabel('Price ($)')\n",
    "plt.title('Deribit Perpetual Sales Prices')\n",
    "plt.show()"
   ]
  },
  {
   "cell_type": "code",
   "execution_count": 30,
   "metadata": {},
   "outputs": [
    {
     "data": {
      "image/png": "[encoded data removed]",
      "text/plain": [
       "<Figure size 432x216 with 1 Axes>"
      ]
     },
     "metadata": {},
     "output_type": "display_data"
    }
   ],
   "source": [
    "figsize(6,3)\n",
    "df_D.plot(y='ratio', legend=False)\n",
    "plt.ylabel('Ratio')\n",
    "plt.title('Perpetural Index Ratio vs Time')\n",
    "plt.show()"
   ]
  },
  {
   "cell_type": "code",
   "execution_count": 53,
   "metadata": {},
   "outputs": [
    {
     "data": {
      "image/png": "[encoded data removed]",
      "text/plain": [
       "<Figure size 432x216 with 1 Axes>"
      ]
     },
     "metadata": {},
     "output_type": "display_data"
    }
   ],
   "source": [
    "sm.graphics.tsa.plot_acf(df_D['ratio'], lags=40)\n",
    "plt.show()"
   ]
  },
  {
   "cell_type": "code",
   "execution_count": 56,
   "metadata": {},
   "outputs": [
    {
     "data": {
      "image/png": "[encoded data removed]",
      "text/plain": [
       "<Figure size 432x216 with 1 Axes>"
      ]
     },
     "metadata": {},
     "output_type": "display_data"
    }
   ],
   "source": [
    "sm.graphics.tsa.plot_pacf(df_D['ratio'], lags=40)\n",
    "plt.show()"
   ]
  },
  {
   "cell_type": "code",
   "execution_count": 66,
   "metadata": {},
   "outputs": [
    {
     "data": {
      "text/plain": [
       "(-6.314735984634745,\n",
       " 4.678722300365411e-07,\n",
       " 3,\n",
       " 443,\n",
       " {'1%': -3.9793522915426682,\n",
       "  '5%': -3.4204471749378556,\n",
       "  '10%': -3.1329068263745925},\n",
       " -5234.242543485603)"
      ]
     },
     "execution_count": 66,
     "metadata": {},
     "output_type": "execute_result"
    }
   ],
   "source": [
    "sm.tsa.stattools.adfuller(df_D['ratio'], maxlag=10, regression='ct')"
   ]
  },
  {
   "cell_type": "code",
   "execution_count": 67,
   "metadata": {},
   "outputs": [],
   "source": [
    "df_D_diff = df_D['ratio'].diff()[1:]"
   ]
  },
  {
   "cell_type": "code",
   "execution_count": 73,
   "metadata": {},
   "outputs": [
    {
     "data": {
      "text/plain": [
       "(-10.033224693489473,\n",
       " 1.962353349225152e-15,\n",
       " 8,\n",
       " 437,\n",
       " {'1%': -3.9796369453725298,\n",
       "  '5%': -3.4205845422066594,\n",
       "  '10%': -3.1329875260529962},\n",
       " -5197.00904872605)"
      ]
     },
     "execution_count": 73,
     "metadata": {},
     "output_type": "execute_result"
    }
   ],
   "source": [
    "sm.tsa.stattools.adfuller(df_D_diff, maxlag=10, regression='ct')"
   ]
  },
  {
   "cell_type": "markdown",
   "metadata": {},
   "source": [
    "First difference is clearly stationary. Some evidence that no diff is not stationary. DF test c, ct, and ctt all reject null, but not DF test with nc.\n",
    "\n",
    "Estimate Models with Both"
   ]
  },
  {
   "cell_type": "code",
   "execution_count": 75,
   "metadata": {},
   "outputs": [
    {
     "name": "stderr",
     "output_type": "stream",
     "text": [
      "C:\\Users\\chris\\.conda\\envs\\data\\lib\\site-packages\\statsmodels\\tsa\\kalmanf\\kalmanfilter.py:649: RuntimeWarning: divide by zero encountered in true_divide\n",
      "  R_mat, T_mat)\n",
      "C:\\Users\\chris\\.conda\\envs\\data\\lib\\site-packages\\statsmodels\\tsa\\tsatools.py:607: RuntimeWarning: invalid value encountered in true_divide\n",
      "  (1+np.exp(-params))).copy()\n",
      "C:\\Users\\chris\\.conda\\envs\\data\\lib\\site-packages\\statsmodels\\tsa\\tsatools.py:609: RuntimeWarning: invalid value encountered in true_divide\n",
      "  (1+np.exp(-params))).copy()\n",
      "C:\\Users\\chris\\.conda\\envs\\data\\lib\\site-packages\\statsmodels\\base\\model.py:488: HessianInversionWarning: Inverting hessian failed, no bse or cov_params available\n",
      "  'available', HessianInversionWarning)\n",
      "C:\\Users\\chris\\.conda\\envs\\data\\lib\\site-packages\\statsmodels\\base\\model.py:508: ConvergenceWarning: Maximum Likelihood optimization failed to converge. Check mle_retvals\n",
      "  \"Check mle_retvals\", ConvergenceWarning)\n",
      "C:\\Users\\chris\\.conda\\envs\\data\\lib\\site-packages\\statsmodels\\base\\model.py:488: HessianInversionWarning: Inverting hessian failed, no bse or cov_params available\n",
      "  'available', HessianInversionWarning)\n",
      "C:\\Users\\chris\\.conda\\envs\\data\\lib\\site-packages\\statsmodels\\tsa\\tsatools.py:650: RuntimeWarning: invalid value encountered in true_divide\n",
      "  newparams = ((1-np.exp(-params))/(1+np.exp(-params))).copy()\n",
      "C:\\Users\\chris\\.conda\\envs\\data\\lib\\site-packages\\statsmodels\\tsa\\tsatools.py:651: RuntimeWarning: invalid value encountered in true_divide\n",
      "  tmp = ((1-np.exp(-params))/(1+np.exp(-params))).copy()\n",
      "C:\\Users\\chris\\.conda\\envs\\data\\lib\\site-packages\\statsmodels\\base\\model.py:488: HessianInversionWarning: Inverting hessian failed, no bse or cov_params available\n",
      "  'available', HessianInversionWarning)\n",
      "C:\\Users\\chris\\.conda\\envs\\data\\lib\\site-packages\\statsmodels\\base\\model.py:488: HessianInversionWarning: Inverting hessian failed, no bse or cov_params available\n",
      "  'available', HessianInversionWarning)\n",
      "C:\\Users\\chris\\.conda\\envs\\data\\lib\\site-packages\\statsmodels\\base\\model.py:508: ConvergenceWarning: Maximum Likelihood optimization failed to converge. Check mle_retvals\n",
      "  \"Check mle_retvals\", ConvergenceWarning)\n",
      "C:\\Users\\chris\\.conda\\envs\\data\\lib\\site-packages\\statsmodels\\base\\model.py:488: HessianInversionWarning: Inverting hessian failed, no bse or cov_params available\n",
      "  'available', HessianInversionWarning)\n",
      "C:\\Users\\chris\\.conda\\envs\\data\\lib\\site-packages\\statsmodels\\base\\model.py:488: HessianInversionWarning: Inverting hessian failed, no bse or cov_params available\n",
      "  'available', HessianInversionWarning)\n",
      "C:\\Users\\chris\\.conda\\envs\\data\\lib\\site-packages\\statsmodels\\base\\model.py:508: ConvergenceWarning: Maximum Likelihood optimization failed to converge. Check mle_retvals\n",
      "  \"Check mle_retvals\", ConvergenceWarning)\n",
      "C:\\Users\\chris\\.conda\\envs\\data\\lib\\site-packages\\statsmodels\\base\\model.py:488: HessianInversionWarning: Inverting hessian failed, no bse or cov_params available\n",
      "  'available', HessianInversionWarning)\n"
     ]
    },
    {
     "name": "stdout",
     "output_type": "stream",
     "text": [
      "{'aic':              0            1            2            3            4  \\\n",
      "0 -5180.704496 -5280.219359 -5311.576438 -5322.052563 -5330.564203   \n",
      "1 -5333.072907 -5357.503554 -5358.480995 -5356.524349          NaN   \n",
      "2 -5346.739381 -5358.438353 -5356.503612 -5354.708097 -5270.102621   \n",
      "3 -5351.237785 -5356.547647 -5354.439180          NaN -5327.036950   \n",
      "4 -5355.017719 -5355.169046 -5353.183672 -5358.069382          NaN   \n",
      "5 -5354.311319 -5351.017978 -5351.998921 -5356.288051          NaN   \n",
      "\n",
      "             5  \n",
      "0 -5335.781545  \n",
      "1 -5353.277258  \n",
      "2          NaN  \n",
      "3 -5323.770297  \n",
      "4 -5355.820691  \n",
      "5 -4386.224784  , 'bic':              0            1            2            3            4  \\\n",
      "0 -5172.499379 -5267.911683 -5295.166203 -5301.539770 -5305.948851   \n",
      "1 -5320.765231 -5341.093320 -5337.968202 -5331.908998          NaN   \n",
      "2 -5330.329146 -5337.925560 -5331.888260 -5325.990186 -5237.282153   \n",
      "3 -5330.724992 -5331.932295 -5325.721270          NaN -5290.113923   \n",
      "4 -5330.402367 -5326.451136 -5320.363203 -5321.146355          NaN   \n",
      "5 -5325.593408 -5318.197509 -5315.075894 -5315.262465          NaN   \n",
      "\n",
      "             5  \n",
      "0 -5307.063635  \n",
      "1 -5320.456789  \n",
      "2          NaN  \n",
      "3 -5282.744711  \n",
      "4 -5310.692546  \n",
      "5 -4336.994081  , 'aic_min_order': (1, 2), 'bic_min_order': (1, 1)}\n"
     ]
    },
    {
     "name": "stderr",
     "output_type": "stream",
     "text": [
      "C:\\Users\\chris\\.conda\\envs\\data\\lib\\site-packages\\statsmodels\\base\\model.py:488: HessianInversionWarning: Inverting hessian failed, no bse or cov_params available\n",
      "  'available', HessianInversionWarning)\n",
      "C:\\Users\\chris\\.conda\\envs\\data\\lib\\site-packages\\statsmodels\\base\\model.py:508: ConvergenceWarning: Maximum Likelihood optimization failed to converge. Check mle_retvals\n",
      "  \"Check mle_retvals\", ConvergenceWarning)\n"
     ]
    }
   ],
   "source": [
    "res = sm.tsa.arma_order_select_ic(df_D['ratio'], max_ar=5, max_ma=5, ic=['aic', 'bic'], fit_kw={'method':'css-mle'})\n",
    "print(res)"
   ]
  },
  {
   "cell_type": "code",
   "execution_count": null,
   "metadata": {},
   "outputs": [],
   "source": [
    "best_aic_model = None\n",
    "best_bic_model = None\n",
    "lowest_AIC = float('inf')\n",
    "lowest_BIC = float('inf')\n",
    "for p in range(15):\n",
    "    for q in range(15):\n",
    "        for d in range(2):\n",
    "            try:\n",
    "                model = sm.tsa.ARIMA(df_D['ratio'], (p,d,q)).fit()\n",
    "                if model.aic < lowest_AIC:\n",
    "                    best_aic_model = model\n",
    "                    lowest_AIC = model.aic\n",
    "                if model.bic < lowest_BIC:\n",
    "                    best_bic_model = model\n",
    "                    lowest_BIC = model.bic\n",
    "            except:\n",
    "                pass"
   ]
  },
  {
   "cell_type": "code",
   "execution_count": null,
   "metadata": {},
   "outputs": [],
   "source": [
    "sm.tsa.ARIMA(df_D['ratio'], (20,0,1)).fit().summary()"
   ]
  },
  {
   "cell_type": "code",
   "execution_count": null,
   "metadata": {},
   "outputs": [],
   "source": [
    "model = sm.tsa.ARIMA(df_D['ratio'], (5,1,2)).fit(disp=False)\n",
    "model.summary()"
   ]
  },
  {
   "cell_type": "code",
   "execution_count": 12,
   "metadata": {},
   "outputs": [
    {
     "data": {
      "text/plain": [
       "count    10080.000000\n",
       "mean         0.998998\n",
       "std          0.000896\n",
       "min          0.993191\n",
       "25%          0.998457\n",
       "50%          0.998994\n",
       "75%          0.999573\n",
       "max          1.002621\n",
       "Name: ratio, dtype: float64"
      ]
     },
     "execution_count": 12,
     "metadata": {},
     "output_type": "execute_result"
    }
   ],
   "source": [
    "df.loc['2018-12-01':'2018-12-07']['ratio'].resample('1Min').last().interpolate().describe()"
   ]
  }
 ],
 "metadata": {
  "kernelspec": {
   "display_name": "Python 3",
   "language": "python",
   "name": "python3"
  },
  "language_info": {
   "codemirror_mode": {
    "name": "ipython",
    "version": 3
   },
   "file_extension": ".py",
   "mimetype": "text/x-python",
   "name": "python",
   "nbconvert_exporter": "python",
   "pygments_lexer": "ipython3",
   "version": "3.7.4"
  }
 },
 "nbformat": 4,
 "nbformat_minor": 2
}
