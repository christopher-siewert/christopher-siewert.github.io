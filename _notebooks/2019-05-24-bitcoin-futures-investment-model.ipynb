{
 "cells": [
  {
   "cell_type": "raw",
   "metadata": {},
   "source": [
    "---\n",
    "layout: post\n",
    "title: \"Bitcoin Futures Investment Modelling\"\n",
    "categories:\n",
    "  - Investments\n",
    "tags:\n",
    "  - bitcoin\n",
    "  - futures\n",
    "  - deribit\n",
    "  - perpetual\n",
    "  - python\n",
    "  - jupyter\n",
    "  - arbitrage\n",
    "  - monte carlo simulation\n",
    "---\n"
   ]
  },
  {
   "cell_type": "markdown",
   "metadata": {},
   "source": [
    "## Part 3 - Modelling, Simulations, Decisions\n",
    "\n",
    "This part is concerned with acutally predicting the profitability of doing an arbitrage trade. It consits of three parts:\n",
    "1. Modelling of Perpetual Prices\n",
    "2. Monte Carlo (MC) Simulation of potential profits\n",
    "3. Decision analysis\n",
    "\n",
    "First we will load all our perpetual data again."
   ]
  },
  {
   "cell_type": "code",
   "execution_count": 83,
   "metadata": {},
   "outputs": [],
   "source": [
    "import numpy as np\n",
    "import pandas as pd\n",
    "import matplotlib.pyplot as plt\n",
    "import scipy\n",
    "from matplotlib import style\n",
    "import seaborn as sns\n",
    "from IPython.core.pylabtools import figsize\n",
    "import warnings\n",
    "import glob\n",
    "import statsmodels.api as sm\n",
    "import datetime\n",
    "\n",
    "\n",
    "%matplotlib inline\n",
    "plt.style.use('ggplot')\n",
    "\n",
    "np.random.seed(17098234)"
   ]
  },
  {
   "cell_type": "code",
   "execution_count": 69,
   "metadata": {},
   "outputs": [],
   "source": [
    "df = pd.read_csv('downloads/BTC-PERPETUAL.txt')"
   ]
  },
  {
   "cell_type": "code",
   "execution_count": 70,
   "metadata": {},
   "outputs": [],
   "source": [
    "df['date'] = pd.to_datetime(df['timestamp'], unit='ms')\n",
    "df.index = df['date']\n",
    "df = df.drop(columns=['timestamp', 'date', 'instrument_name'])\n",
    "df.columns = ['perpetual', 'index']"
   ]
  },
  {
   "cell_type": "code",
   "execution_count": 71,
   "metadata": {},
   "outputs": [],
   "source": [
    "df['ratio'] = df['perpetual'] / df['index']"
   ]
  },
  {
   "cell_type": "code",
   "execution_count": 72,
   "metadata": {},
   "outputs": [],
   "source": [
    "df['funding'] = np.maximum(0.0005, df['ratio'] - 1) +  np.minimum(-0.0005, df['ratio'] - 1)"
   ]
  },
  {
   "cell_type": "code",
   "execution_count": 73,
   "metadata": {},
   "outputs": [],
   "source": [
    "df_D = df.resample('D').last()\n",
    "df_5 = df.resample('5Min').last().interpolate()"
   ]
  },
  {
   "cell_type": "code",
   "execution_count": 74,
   "metadata": {},
   "outputs": [],
   "source": [
    "df_H = df.resample('H').last().interpolate()"
   ]
  },
  {
   "cell_type": "markdown",
   "metadata": {},
   "source": [
    "## Time Series Analysis"
   ]
  },
  {
   "cell_type": "code",
   "execution_count": null,
   "metadata": {},
   "outputs": [],
   "source": [
    "time = datetime(2019, 5, 12, )\n",
    "train, test = df_H[]"
   ]
  },
  {
   "cell_type": "code",
   "execution_count": 32,
   "metadata": {},
   "outputs": [],
   "source": [
    "warnings.simplefilter('ignore')\n",
    "res = sm.tsa.arma_order_select_ic(df_H['ratio'], max_ar=5, max_ma=5, ic=['bic'], trend='c')"
   ]
  },
  {
   "cell_type": "markdown",
   "metadata": {},
   "source": [
    "Best is (2, 3)"
   ]
  },
  {
   "cell_type": "code",
   "execution_count": 75,
   "metadata": {},
   "outputs": [],
   "source": [
    "model = sm.tsa.ARMA(df_H['ratio'], (2, 3)).fit(disp=False)"
   ]
  },
  {
   "cell_type": "code",
   "execution_count": null,
   "metadata": {},
   "outputs": [],
   "source": [
    "model.summary()"
   ]
  },
  {
   "cell_type": "code",
   "execution_count": 82,
   "metadata": {},
   "outputs": [
    {
     "data": {
      "text/html": [
       "<div>\n",
       "<style scoped>\n",
       "    .dataframe tbody tr th:only-of-type {\n",
       "        vertical-align: middle;\n",
       "    }\n",
       "\n",
       "    .dataframe tbody tr th {\n",
       "        vertical-align: top;\n",
       "    }\n",
       "\n",
       "    .dataframe thead th {\n",
       "        text-align: right;\n",
       "    }\n",
       "</style>\n",
       "<table border=\"1\" class=\"dataframe\">\n",
       "  <thead>\n",
       "    <tr style=\"text-align: right;\">\n",
       "      <th></th>\n",
       "      <th>perpetual</th>\n",
       "      <th>index</th>\n",
       "      <th>ratio</th>\n",
       "      <th>funding</th>\n",
       "    </tr>\n",
       "    <tr>\n",
       "      <th>date</th>\n",
       "      <th></th>\n",
       "      <th></th>\n",
       "      <th></th>\n",
       "      <th></th>\n",
       "    </tr>\n",
       "  </thead>\n",
       "  <tbody>\n",
       "    <tr>\n",
       "      <th>2019-05-12 07:00:00</th>\n",
       "      <td>7524.00</td>\n",
       "      <td>7528.13</td>\n",
       "      <td>0.999451</td>\n",
       "      <td>-0.000049</td>\n",
       "    </tr>\n",
       "    <tr>\n",
       "      <th>2019-05-12 08:00:00</th>\n",
       "      <td>7435.75</td>\n",
       "      <td>7434.24</td>\n",
       "      <td>1.000203</td>\n",
       "      <td>0.000000</td>\n",
       "    </tr>\n",
       "    <tr>\n",
       "      <th>2019-05-12 09:00:00</th>\n",
       "      <td>7378.25</td>\n",
       "      <td>7379.22</td>\n",
       "      <td>0.999869</td>\n",
       "      <td>0.000000</td>\n",
       "    </tr>\n",
       "  </tbody>\n",
       "</table>\n",
       "</div>"
      ],
      "text/plain": [
       "                     perpetual    index     ratio   funding\n",
       "date                                                       \n",
       "2019-05-12 07:00:00    7524.00  7528.13  0.999451 -0.000049\n",
       "2019-05-12 08:00:00    7435.75  7434.24  1.000203  0.000000\n",
       "2019-05-12 09:00:00    7378.25  7379.22  0.999869  0.000000"
      ]
     },
     "execution_count": 82,
     "metadata": {},
     "output_type": "execute_result"
    }
   ],
   "source": [
    "df_H['2019-05-12'].between_time('7:00', '9:00')"
   ]
  },
  {
   "cell_type": "markdown",
   "metadata": {},
   "source": [
    "## Monte Carlo Simulation"
   ]
  },
  {
   "cell_type": "markdown",
   "metadata": {},
   "source": [
    "Let's calculate the profitability of arbitrage, given those prices from earlier that I sampled from a random moment in time."
   ]
  },
  {
   "cell_type": "code",
   "execution_count": 34,
   "metadata": {},
   "outputs": [],
   "source": [
    "# Starting prices\n",
    "start_future_price = 7270.13\n",
    "start_perpetual_price = 7325.88\n",
    "start_index_price = 7335.49"
   ]
  },
  {
   "cell_type": "markdown",
   "metadata": {},
   "source": [
    "I make a few assumptions:\n",
    "\n",
    "1. The trades are done with 1 BTC of exposure.\n",
    "2. The BTC index price at the future's expiration date will be a random number picked from a normal distribution around the current index price.\n",
    "3. The volatility of BTC is about 4% daily, based on a quick look [here](https://www.sk3w.co/options).\n",
    "3. The perpetual price at the future's expiration date will equal the index price, times by a perpetual index ratio sampled from our modeled distribution.\n",
    "\n",
    "Here's the full model specification as:\n",
    "\n",
    "$$\\text{btc_std} \\sim U(0.1, 0.3)$$\n",
    "$$\\text{end_index_price} \\sim N(\\text{start_index_price}, \\text{btc_std})$$\n",
    "$$\\text{perpetual_index_ratio} \\sim \\text{ARMA Process}$$\n",
    "$$\\text{end_perpetual_price} = \\text{end_index_price} * \\text{perpetual_index_ratio}$$\n",
    "$$\\text{funding_rate} = f(\\text{perpetual_index_ratio})$$\n",
    "$$\\text{total_funding} = \\text{total funding payments through time} = f(\\text{funding_rate})$$\n",
    "$$\\text{profit} = f(\\text{end_index_price}, \\text{end_perpetual_price}, \\text{total_funding})$$\n"
   ]
  },
  {
   "cell_type": "code",
   "execution_count": 35,
   "metadata": {},
   "outputs": [],
   "source": [
    "# Initial Prices are the set of of index, perpetual, and futures prices I recorded and used in the example earlier.\n",
    "# This will simulate the profit considering you bought and sold for those prices.\n",
    "# Enter in new prices to get a profitibility analysis for those prices\n",
    "\n",
    "# Number of monte carlo trials\n",
    "trials = 10000\n",
    "\n",
    "# Amount of BTC\n",
    "btc = 1\n",
    "\n",
    "# days until settlement - May 12 to June 28\n",
    "days = 46\n",
    "\n",
    "# Daily standard deviation of bitcoin price in percentage\n",
    "daily_btc_sd = scipy.stats.norm.rvs(loc=0.04, scale=0.005, size=trials)\n",
    "\n",
    "# Can't go below 0\n",
    "daily_btc_sd = np.maximum(daily_btc_sd, 0)\n",
    "\n",
    "# Standard deviation of time period\n",
    "btc_sd = daily_btc_sd * np.sqrt(days)\n",
    "\n",
    "# Standard deviation in dollars\n",
    "index_sd = start_index_price * btc_sd\n",
    "\n",
    "# Generate a list of values normally distributed around the starting index price\n",
    "end_index_price = start_index_price + index_sd * np.random.randn(trials)\n",
    "\n",
    "# Max of these values and 1, so that the bitcoin index isn't negative\n",
    "end_index_price = np.maximum(end_index_price, np.ones(trials))"
   ]
  },
  {
   "cell_type": "code",
   "execution_count": 65,
   "metadata": {},
   "outputs": [],
   "source": [
    "def arma_sample(c, ar, ma, sd, y, resid, steps):\n",
    "    \"\"\"Generates arma process values from the end of y\n",
    "    \n",
    "    Parameters\n",
    "    --------------------------------------------------\n",
    "    y: data\n",
    "    resid: residuals from arma model estimation\n",
    "    c: coefficient\n",
    "    ar: list of ar coefficients\n",
    "    ma: list of ma coefficients\n",
    "    sd: standard deviation of innovation\n",
    "    steps: number of forward steps\n",
    "    \"\"\"\n",
    "    initial_length = len(y)\n",
    "    y = y.tolist()\n",
    "    resid = resid.tolist()\n",
    "    for _ in range(periods):\n",
    "        yhat = c\n",
    "        for i, value in enumerate(ar):\n",
    "            yhat += value * y[~i]\n",
    "        for i, value in enumerate(ma):\n",
    "            yhat += value * resid[~i]\n",
    "        u = sd * np.random.randn()\n",
    "        yhat += u\n",
    "        y.append(yhat)\n",
    "        resid.append(u)\n",
    "    return y[initial_length:]"
   ]
  },
  {
   "cell_type": "code",
   "execution_count": 52,
   "metadata": {},
   "outputs": [],
   "source": [
    "def ar_sample(y, c, ar, sd, steps):\n",
    "    \"\"\"Generates ar process values from the end of y\n",
    "    \n",
    "    Parameters\n",
    "    --------------------------------------------------\n",
    "    y: data\n",
    "    c: coefficient\n",
    "    ar: list of ar coefficients\n",
    "    sd: standard deviation of innovation\n",
    "    steps: number of steps forward to forecast\n",
    "    \"\"\"\n",
    "    initial_length = len(y)\n",
    "    y = y.tolist()\n",
    "    for _ in range(steps):\n",
    "        yhat = c\n",
    "        for i, value in enumerate(ar):\n",
    "            yhat += value * y[~i]\n",
    "        u = sd * np.random.randn()\n",
    "        yhat += u\n",
    "        y.append(yhat)\n",
    "    return y[initial_length:]    "
   ]
  },
  {
   "cell_type": "code",
   "execution_count": 50,
   "metadata": {},
   "outputs": [
    {
     "data": {
      "text/plain": [
       "0.0005278886652563803"
      ]
     },
     "execution_count": 50,
     "metadata": {},
     "output_type": "execute_result"
    }
   ],
   "source": [
    "np.sqrt(model.sigma2)"
   ]
  },
  {
   "cell_type": "code",
   "execution_count": 64,
   "metadata": {},
   "outputs": [
    {
     "data": {
      "text/plain": [
       "[0,\n",
       " 0,\n",
       " 0,\n",
       " 0,\n",
       " 0,\n",
       " 0,\n",
       " 0,\n",
       " 0,\n",
       " 0,\n",
       " 0,\n",
       " 0,\n",
       " 0,\n",
       " 0,\n",
       " 0,\n",
       " 0,\n",
       " 0,\n",
       " 0,\n",
       " 0,\n",
       " 0,\n",
       " 0,\n",
       " 0,\n",
       " 0,\n",
       " 0,\n",
       " 0,\n",
       " 0,\n",
       " 0,\n",
       " 0,\n",
       " 0,\n",
       " 0,\n",
       " 0,\n",
       " 0,\n",
       " 0,\n",
       " 0,\n",
       " 0,\n",
       " 0,\n",
       " 0,\n",
       " 0,\n",
       " 0,\n",
       " 0,\n",
       " 0,\n",
       " 0,\n",
       " 0,\n",
       " 0,\n",
       " 0,\n",
       " 0,\n",
       " 0,\n",
       " 0,\n",
       " 0,\n",
       " 0,\n",
       " 0,\n",
       " 0,\n",
       " 0,\n",
       " 0,\n",
       " 0,\n",
       " 0,\n",
       " 0,\n",
       " 0,\n",
       " 0,\n",
       " 0,\n",
       " 0,\n",
       " 0,\n",
       " 0,\n",
       " 0,\n",
       " 0,\n",
       " 0,\n",
       " 0,\n",
       " 0,\n",
       " 0,\n",
       " 0,\n",
       " 0,\n",
       " 0,\n",
       " 0,\n",
       " 0,\n",
       " 0,\n",
       " 0,\n",
       " 0,\n",
       " 0,\n",
       " 0,\n",
       " 0,\n",
       " 0,\n",
       " 0,\n",
       " 0,\n",
       " 0,\n",
       " 0,\n",
       " 0,\n",
       " 0,\n",
       " 0,\n",
       " 0,\n",
       " 0,\n",
       " 0,\n",
       " 0,\n",
       " 0,\n",
       " 0,\n",
       " 0,\n",
       " 0,\n",
       " 0,\n",
       " 0,\n",
       " 0,\n",
       " 0,\n",
       " 0,\n",
       " 0,\n",
       " 0,\n",
       " 0,\n",
       " 0,\n",
       " 0,\n",
       " 0,\n",
       " 0,\n",
       " 0,\n",
       " 0,\n",
       " 0,\n",
       " 0,\n",
       " 0,\n",
       " 0,\n",
       " 0,\n",
       " 0,\n",
       " 0,\n",
       " 0,\n",
       " 0,\n",
       " 0,\n",
       " 0,\n",
       " 0,\n",
       " 0,\n",
       " 0,\n",
       " 0,\n",
       " 0,\n",
       " 0,\n",
       " 0,\n",
       " 0,\n",
       " 0,\n",
       " 0,\n",
       " 0,\n",
       " 0,\n",
       " 0,\n",
       " 0,\n",
       " 0,\n",
       " 0,\n",
       " 0,\n",
       " 0,\n",
       " 0,\n",
       " 0,\n",
       " 0,\n",
       " 0,\n",
       " 0,\n",
       " 0,\n",
       " 0,\n",
       " 0,\n",
       " 0,\n",
       " 0,\n",
       " 0,\n",
       " 0,\n",
       " 0,\n",
       " 0,\n",
       " 0,\n",
       " 0,\n",
       " 0,\n",
       " 0,\n",
       " 0,\n",
       " 0,\n",
       " 0,\n",
       " 0,\n",
       " 0,\n",
       " 0,\n",
       " 0,\n",
       " 0,\n",
       " 0,\n",
       " 0,\n",
       " 0,\n",
       " 0,\n",
       " 0,\n",
       " 0,\n",
       " 0,\n",
       " 0,\n",
       " 0,\n",
       " 0,\n",
       " 0,\n",
       " 0,\n",
       " 0,\n",
       " 0,\n",
       " 0,\n",
       " 0,\n",
       " 0,\n",
       " 0,\n",
       " 0,\n",
       " 0,\n",
       " 0,\n",
       " 0,\n",
       " 0,\n",
       " 0,\n",
       " 0,\n",
       " 0,\n",
       " 0,\n",
       " 0,\n",
       " 0,\n",
       " 0,\n",
       " 0,\n",
       " 0,\n",
       " 0,\n",
       " 0,\n",
       " 0,\n",
       " 0,\n",
       " 0,\n",
       " 0,\n",
       " 0,\n",
       " 0,\n",
       " 0,\n",
       " 0,\n",
       " 0,\n",
       " 0,\n",
       " 0,\n",
       " 0,\n",
       " 0,\n",
       " 0,\n",
       " 0,\n",
       " 0,\n",
       " 0,\n",
       " 0,\n",
       " 0,\n",
       " 0,\n",
       " 0,\n",
       " 0,\n",
       " 0,\n",
       " 0,\n",
       " 0,\n",
       " 0,\n",
       " 0,\n",
       " 0,\n",
       " 0,\n",
       " 0,\n",
       " 0,\n",
       " 0,\n",
       " 0,\n",
       " 0,\n",
       " 0,\n",
       " 0,\n",
       " 0,\n",
       " 0,\n",
       " 0,\n",
       " 0,\n",
       " 0,\n",
       " 0,\n",
       " 0,\n",
       " 0,\n",
       " 0,\n",
       " 0,\n",
       " 0,\n",
       " 0,\n",
       " 0,\n",
       " 0,\n",
       " 0,\n",
       " 0,\n",
       " 0,\n",
       " 0,\n",
       " 0,\n",
       " 0,\n",
       " 0,\n",
       " 0,\n",
       " 0,\n",
       " 0,\n",
       " 0,\n",
       " 0,\n",
       " 0,\n",
       " 0,\n",
       " 0,\n",
       " 0,\n",
       " 0,\n",
       " 0,\n",
       " 0,\n",
       " 0,\n",
       " 0,\n",
       " 0,\n",
       " 0,\n",
       " 0,\n",
       " 0,\n",
       " 0,\n",
       " 0,\n",
       " 0,\n",
       " 0,\n",
       " 0,\n",
       " 0,\n",
       " 0,\n",
       " 0,\n",
       " 0,\n",
       " 0,\n",
       " 0,\n",
       " 0,\n",
       " 0,\n",
       " 0,\n",
       " 0,\n",
       " 0,\n",
       " 0,\n",
       " 0,\n",
       " 0,\n",
       " 0,\n",
       " 0,\n",
       " 0,\n",
       " 0,\n",
       " 0,\n",
       " 0,\n",
       " 0,\n",
       " 0,\n",
       " 0,\n",
       " 0,\n",
       " 0,\n",
       " 0,\n",
       " 0,\n",
       " 0,\n",
       " 0,\n",
       " 0,\n",
       " 0,\n",
       " 0,\n",
       " 0,\n",
       " 0,\n",
       " 0,\n",
       " 0,\n",
       " 0,\n",
       " 0,\n",
       " 0,\n",
       " 0,\n",
       " 0,\n",
       " 0,\n",
       " 0,\n",
       " 0,\n",
       " 0,\n",
       " 0,\n",
       " 0,\n",
       " 0,\n",
       " 0,\n",
       " 0,\n",
       " 0,\n",
       " 0,\n",
       " 0,\n",
       " 0,\n",
       " 0,\n",
       " 0,\n",
       " 0,\n",
       " 0,\n",
       " 0,\n",
       " 0,\n",
       " 0,\n",
       " 0,\n",
       " 0,\n",
       " 0,\n",
       " 0,\n",
       " 0,\n",
       " 0,\n",
       " 0,\n",
       " 0,\n",
       " 0,\n",
       " 0,\n",
       " 0,\n",
       " 0,\n",
       " 0,\n",
       " 0,\n",
       " 0,\n",
       " 0,\n",
       " 0,\n",
       " 0,\n",
       " 0,\n",
       " 0,\n",
       " 0,\n",
       " 0,\n",
       " 0,\n",
       " 0,\n",
       " 0,\n",
       " 0,\n",
       " 0,\n",
       " 0,\n",
       " 0,\n",
       " 0,\n",
       " 0,\n",
       " 0,\n",
       " 0,\n",
       " 0,\n",
       " 0,\n",
       " 0,\n",
       " 0,\n",
       " 0,\n",
       " 0,\n",
       " 0,\n",
       " 0,\n",
       " 0,\n",
       " 0,\n",
       " 0,\n",
       " 0,\n",
       " 0,\n",
       " 0,\n",
       " 0,\n",
       " 0,\n",
       " 0,\n",
       " 0,\n",
       " 0,\n",
       " 0,\n",
       " 0,\n",
       " 0,\n",
       " 0,\n",
       " 0,\n",
       " 0,\n",
       " 0,\n",
       " 0,\n",
       " 0,\n",
       " 0,\n",
       " 0,\n",
       " 0,\n",
       " 0,\n",
       " 0,\n",
       " 0,\n",
       " 0,\n",
       " 0,\n",
       " 0,\n",
       " 0,\n",
       " 0,\n",
       " 0,\n",
       " 0,\n",
       " 0,\n",
       " 0,\n",
       " 0,\n",
       " 0,\n",
       " 0,\n",
       " 0,\n",
       " 0,\n",
       " 0,\n",
       " 0,\n",
       " 0,\n",
       " 0,\n",
       " 0,\n",
       " 0,\n",
       " 0,\n",
       " 0,\n",
       " 0,\n",
       " 0,\n",
       " 0,\n",
       " 0,\n",
       " 0,\n",
       " 0,\n",
       " 0,\n",
       " 0,\n",
       " 0,\n",
       " 0,\n",
       " 0,\n",
       " 0,\n",
       " 0,\n",
       " 0,\n",
       " 0,\n",
       " 0,\n",
       " 0,\n",
       " 0,\n",
       " 0,\n",
       " 0,\n",
       " 0,\n",
       " 0,\n",
       " 0,\n",
       " 0,\n",
       " 0,\n",
       " 0,\n",
       " 0,\n",
       " 0,\n",
       " 0,\n",
       " 0,\n",
       " 0,\n",
       " 0,\n",
       " 0,\n",
       " 0,\n",
       " 0,\n",
       " 0,\n",
       " 0,\n",
       " 0,\n",
       " 0,\n",
       " 0,\n",
       " 0,\n",
       " 0,\n",
       " 0,\n",
       " 0,\n",
       " 0,\n",
       " 0,\n",
       " 0,\n",
       " 0,\n",
       " 0,\n",
       " 0,\n",
       " 0,\n",
       " 0,\n",
       " 0,\n",
       " 0,\n",
       " 0,\n",
       " 0,\n",
       " 0,\n",
       " 0,\n",
       " 0,\n",
       " 0,\n",
       " 0,\n",
       " 0,\n",
       " 0,\n",
       " 0,\n",
       " 0,\n",
       " 0,\n",
       " 0,\n",
       " 0,\n",
       " 0,\n",
       " 0,\n",
       " 0,\n",
       " 0,\n",
       " 0,\n",
       " 0,\n",
       " 0,\n",
       " 0,\n",
       " 0,\n",
       " 0,\n",
       " 0,\n",
       " 0,\n",
       " 0,\n",
       " 0,\n",
       " 0,\n",
       " 0,\n",
       " 0,\n",
       " 0,\n",
       " 0,\n",
       " 0,\n",
       " 0,\n",
       " 0,\n",
       " 0,\n",
       " 0,\n",
       " 0,\n",
       " 0,\n",
       " 0,\n",
       " 0,\n",
       " 0,\n",
       " 0,\n",
       " 0,\n",
       " 0,\n",
       " 0,\n",
       " 0,\n",
       " 0,\n",
       " 0,\n",
       " 0,\n",
       " 0,\n",
       " 0,\n",
       " 0,\n",
       " 0,\n",
       " 0,\n",
       " 0,\n",
       " 0,\n",
       " 0,\n",
       " 0,\n",
       " 0,\n",
       " 0,\n",
       " 0,\n",
       " 0,\n",
       " 0,\n",
       " 0,\n",
       " 0,\n",
       " 0,\n",
       " 0,\n",
       " 0,\n",
       " 0,\n",
       " 0,\n",
       " 0,\n",
       " 0,\n",
       " 0,\n",
       " 0,\n",
       " 0,\n",
       " 0,\n",
       " 0,\n",
       " 0,\n",
       " 0,\n",
       " 0,\n",
       " 0,\n",
       " 0,\n",
       " 0,\n",
       " 0,\n",
       " 0,\n",
       " 0,\n",
       " 0,\n",
       " 0,\n",
       " 0,\n",
       " 0,\n",
       " 0,\n",
       " 0,\n",
       " 0,\n",
       " 0,\n",
       " 0,\n",
       " 0,\n",
       " 0,\n",
       " 0,\n",
       " 0,\n",
       " 0,\n",
       " 0,\n",
       " 0,\n",
       " 0,\n",
       " 0,\n",
       " 0,\n",
       " 0,\n",
       " 0,\n",
       " 0,\n",
       " 0,\n",
       " 0,\n",
       " 0,\n",
       " 0,\n",
       " 0,\n",
       " 0,\n",
       " 0,\n",
       " 0,\n",
       " 0,\n",
       " 0,\n",
       " 0,\n",
       " 0,\n",
       " 0,\n",
       " 0,\n",
       " 0,\n",
       " 0,\n",
       " 0,\n",
       " 0,\n",
       " 0,\n",
       " 0,\n",
       " 0,\n",
       " 0,\n",
       " 0,\n",
       " 0,\n",
       " 0,\n",
       " 0,\n",
       " 0,\n",
       " 0,\n",
       " 0,\n",
       " 0,\n",
       " 0,\n",
       " 0,\n",
       " 0,\n",
       " 0,\n",
       " 0,\n",
       " 0,\n",
       " 0,\n",
       " 0,\n",
       " 0,\n",
       " 0,\n",
       " 0,\n",
       " 0,\n",
       " 0,\n",
       " 0,\n",
       " 0,\n",
       " 0,\n",
       " 0,\n",
       " 0,\n",
       " 0,\n",
       " 0,\n",
       " 0,\n",
       " 0,\n",
       " 0,\n",
       " 0,\n",
       " 0,\n",
       " 0,\n",
       " 0,\n",
       " 0,\n",
       " 0,\n",
       " 0,\n",
       " 0,\n",
       " 0,\n",
       " 0,\n",
       " 0,\n",
       " 0,\n",
       " 0,\n",
       " 0,\n",
       " 0,\n",
       " 0,\n",
       " 0,\n",
       " 0,\n",
       " 0,\n",
       " 0,\n",
       " 0,\n",
       " 0,\n",
       " 0,\n",
       " 0,\n",
       " 0,\n",
       " 0,\n",
       " 0,\n",
       " 0,\n",
       " 0,\n",
       " 0,\n",
       " 0,\n",
       " 0,\n",
       " 0,\n",
       " 0,\n",
       " 0,\n",
       " 0,\n",
       " 0,\n",
       " 0,\n",
       " 0,\n",
       " 0,\n",
       " 0,\n",
       " 0,\n",
       " 0,\n",
       " 0,\n",
       " 0,\n",
       " 0,\n",
       " 0,\n",
       " 0,\n",
       " 0,\n",
       " 0,\n",
       " 0,\n",
       " 0,\n",
       " 0,\n",
       " 0,\n",
       " 0,\n",
       " 0,\n",
       " 0,\n",
       " 0,\n",
       " 0,\n",
       " 0,\n",
       " 0,\n",
       " 0,\n",
       " 0,\n",
       " 0,\n",
       " 0,\n",
       " 0,\n",
       " 0,\n",
       " 0,\n",
       " 0,\n",
       " 0,\n",
       " 0,\n",
       " 0,\n",
       " 0,\n",
       " 0,\n",
       " 0,\n",
       " 0,\n",
       " 0,\n",
       " 0,\n",
       " 0,\n",
       " 0,\n",
       " 0,\n",
       " 0,\n",
       " 0,\n",
       " 0,\n",
       " 0,\n",
       " 0,\n",
       " 0,\n",
       " 0,\n",
       " 0,\n",
       " 0,\n",
       " 0,\n",
       " 0,\n",
       " 0,\n",
       " 0,\n",
       " 0,\n",
       " 0,\n",
       " 0,\n",
       " 0,\n",
       " 0,\n",
       " 0,\n",
       " 0,\n",
       " 0,\n",
       " 0,\n",
       " 0,\n",
       " 0,\n",
       " 0,\n",
       " 0,\n",
       " 0,\n",
       " 0,\n",
       " 0,\n",
       " 0,\n",
       " 0,\n",
       " 0,\n",
       " 0,\n",
       " 0,\n",
       " 0,\n",
       " 0,\n",
       " 0,\n",
       " 0,\n",
       " 0,\n",
       " 0,\n",
       " 0,\n",
       " 0,\n",
       " 0,\n",
       " 0,\n",
       " 0,\n",
       " 0,\n",
       " 0,\n",
       " 0,\n",
       " 0,\n",
       " 0,\n",
       " 0,\n",
       " 0,\n",
       " 0,\n",
       " 0,\n",
       " 0,\n",
       " 0,\n",
       " 0,\n",
       " 0,\n",
       " 0,\n",
       " 0,\n",
       " 0,\n",
       " 0,\n",
       " 0,\n",
       " 0,\n",
       " 0,\n",
       " 0,\n",
       " 0,\n",
       " 0,\n",
       " 0,\n",
       " 0,\n",
       " 0,\n",
       " 0,\n",
       " 0,\n",
       " 0,\n",
       " 0,\n",
       " 0,\n",
       " 0,\n",
       " 0,\n",
       " 0,\n",
       " 0,\n",
       " 0,\n",
       " 0,\n",
       " 0,\n",
       " 0,\n",
       " 0,\n",
       " 0,\n",
       " 0,\n",
       " 0,\n",
       " 0,\n",
       " 0,\n",
       " 0,\n",
       " 0,\n",
       " 0,\n",
       " 0,\n",
       " 0,\n",
       " 0,\n",
       " 0,\n",
       " 0,\n",
       " 0,\n",
       " 0,\n",
       " 0,\n",
       " 0,\n",
       " 0,\n",
       " 0,\n",
       " 0,\n",
       " 0,\n",
       " 0,\n",
       " 0,\n",
       " 0,\n",
       " 0,\n",
       " 0,\n",
       " 0,\n",
       " 0,\n",
       " 0,\n",
       " 0,\n",
       " 0,\n",
       " 0,\n",
       " 0,\n",
       " 0,\n",
       " 0,\n",
       " 0,\n",
       " 0,\n",
       " 0,\n",
       " 0,\n",
       " 0,\n",
       " 0,\n",
       " 0,\n",
       " 0,\n",
       " 0,\n",
       " 0,\n",
       " 0,\n",
       " 0,\n",
       " 0,\n",
       " 0,\n",
       " 0,\n",
       " 0,\n",
       " 0,\n",
       " 0,\n",
       " 0,\n",
       " 0,\n",
       " 0,\n",
       " 0,\n",
       " 0,\n",
       " 0,\n",
       " 0,\n",
       " 0,\n",
       " 0,\n",
       " 0,\n",
       " 0,\n",
       " 0,\n",
       " 0,\n",
       " 0,\n",
       " 0,\n",
       " 0,\n",
       " 0,\n",
       " 0,\n",
       " 0,\n",
       " 0,\n",
       " 0,\n",
       " 0,\n",
       " 0,\n",
       " 0,\n",
       " 0,\n",
       " 0,\n",
       " 0,\n",
       " 0,\n",
       " 0,\n",
       " 0,\n",
       " 0,\n",
       " 0,\n",
       " 0,\n",
       " 0,\n",
       " 0,\n",
       " 0,\n",
       " 0,\n",
       " 0,\n",
       " 0,\n",
       " 0,\n",
       " 0,\n",
       " 0,\n",
       " 0,\n",
       " 0,\n",
       " 0,\n",
       " 0,\n",
       " 0,\n",
       " 0,\n",
       " 0,\n",
       " 0,\n",
       " 0,\n",
       " 0,\n",
       " 0,\n",
       " 0,\n",
       " 0,\n",
       " 0,\n",
       " 0,\n",
       " 0,\n",
       " 0,\n",
       " 0,\n",
       " 0,\n",
       " 0,\n",
       " 0,\n",
       " 0,\n",
       " 0,\n",
       " 0,\n",
       " 0,\n",
       " 0,\n",
       " 0,\n",
       " 0,\n",
       " 0,\n",
       " 0,\n",
       " 0,\n",
       " 0,\n",
       " 0,\n",
       " 0,\n",
       " 0,\n",
       " 0,\n",
       " 0,\n",
       " 0,\n",
       " 0,\n",
       " 0,\n",
       " 0,\n",
       " 0,\n",
       " 0,\n",
       " 0,\n",
       " 0,\n",
       " 0,\n",
       " 0,\n",
       " 0,\n",
       " 0,\n",
       " 0,\n",
       " 0,\n",
       " 0,\n",
       " 0,\n",
       " 0,\n",
       " 0,\n",
       " 0,\n",
       " 0,\n",
       " 0,\n",
       " 0,\n",
       " 0,\n",
       " 0,\n",
       " 0,\n",
       " 0,\n",
       " 0,\n",
       " 0,\n",
       " 0,\n",
       " 0,\n",
       " 0,\n",
       " 0,\n",
       " 0,\n",
       " 0,\n",
       " 0,\n",
       " 0,\n",
       " 0,\n",
       " 0,\n",
       " 0,\n",
       " 0,\n",
       " 0,\n",
       " 0,\n",
       " 0,\n",
       " 0,\n",
       " 0,\n",
       " 0,\n",
       " 0,\n",
       " 0,\n",
       " 0,\n",
       " 0,\n",
       " 0,\n",
       " 0,\n",
       " 0,\n",
       " 0,\n",
       " 0,\n",
       " 0,\n",
       " 0,\n",
       " ...]"
      ]
     },
     "execution_count": 64,
     "metadata": {},
     "output_type": "execute_result"
    }
   ],
   "source": [
    "arma_sample(model.params[0], model.arparams, model.maparams, np.sqrt(model.sigma2), df_H['ratio'], periods)"
   ]
  },
  {
   "cell_type": "code",
   "execution_count": 41,
   "metadata": {},
   "outputs": [
    {
     "ename": "TypeError",
     "evalue": "cannot concatenate object of type '<class 'numpy.float64'>'; only Series and DataFrame objs are valid",
     "output_type": "error",
     "traceback": [
      "\u001b[0;31m---------------------------------------------------------------------------\u001b[0m",
      "\u001b[0;31mTypeError\u001b[0m                                 Traceback (most recent call last)",
      "\u001b[0;32m<ipython-input-41-d426e12aa331>\u001b[0m in \u001b[0;36m<module>\u001b[0;34m\u001b[0m\n\u001b[1;32m      2\u001b[0m \u001b[0mratios\u001b[0m \u001b[0;34m=\u001b[0m \u001b[0mnp\u001b[0m\u001b[0;34m.\u001b[0m\u001b[0marray\u001b[0m\u001b[0;34m(\u001b[0m\u001b[0;34m[\u001b[0m\u001b[0;34m]\u001b[0m\u001b[0;34m)\u001b[0m\u001b[0;34m\u001b[0m\u001b[0;34m\u001b[0m\u001b[0m\n\u001b[1;32m      3\u001b[0m \u001b[0;32mfor\u001b[0m \u001b[0mi\u001b[0m \u001b[0;32min\u001b[0m \u001b[0mrange\u001b[0m\u001b[0;34m(\u001b[0m\u001b[0mtrials\u001b[0m\u001b[0;34m)\u001b[0m\u001b[0;34m:\u001b[0m\u001b[0;34m\u001b[0m\u001b[0;34m\u001b[0m\u001b[0m\n\u001b[0;32m----> 4\u001b[0;31m     \u001b[0mratios\u001b[0m\u001b[0;34m[\u001b[0m\u001b[0mi\u001b[0m\u001b[0;34m]\u001b[0m \u001b[0;34m=\u001b[0m \u001b[0marma_sample\u001b[0m\u001b[0;34m(\u001b[0m\u001b[0mmodel\u001b[0m\u001b[0;34m.\u001b[0m\u001b[0mparams\u001b[0m\u001b[0;34m[\u001b[0m\u001b[0;36m0\u001b[0m\u001b[0;34m]\u001b[0m\u001b[0;34m,\u001b[0m \u001b[0mmodel\u001b[0m\u001b[0;34m.\u001b[0m\u001b[0marparams\u001b[0m\u001b[0;34m,\u001b[0m \u001b[0mmodel\u001b[0m\u001b[0;34m.\u001b[0m\u001b[0mmaparams\u001b[0m\u001b[0;34m,\u001b[0m \u001b[0mmodel\u001b[0m\u001b[0;34m.\u001b[0m\u001b[0msigma2\u001b[0m\u001b[0;34m,\u001b[0m \u001b[0mdf_H\u001b[0m\u001b[0;34m[\u001b[0m\u001b[0;34m'ratio'\u001b[0m\u001b[0;34m]\u001b[0m\u001b[0;34m,\u001b[0m \u001b[0mperiods\u001b[0m\u001b[0;34m)\u001b[0m\u001b[0;34m\u001b[0m\u001b[0;34m\u001b[0m\u001b[0m\n\u001b[0m\u001b[1;32m      5\u001b[0m \u001b[0mratios\u001b[0m\u001b[0;34m\u001b[0m\u001b[0;34m\u001b[0m\u001b[0m\n",
      "\u001b[0;32m<ipython-input-36-e90dca6a6dd8>\u001b[0m in \u001b[0;36marma_sample\u001b[0;34m(c, ar, ma, sd, y, periods)\u001b[0m\n\u001b[1;32m     21\u001b[0m         \u001b[0mu\u001b[0m \u001b[0;34m=\u001b[0m \u001b[0msd\u001b[0m \u001b[0;34m*\u001b[0m \u001b[0mnp\u001b[0m\u001b[0;34m.\u001b[0m\u001b[0mrandom\u001b[0m\u001b[0;34m.\u001b[0m\u001b[0mrandn\u001b[0m\u001b[0;34m(\u001b[0m\u001b[0;34m)\u001b[0m\u001b[0;34m\u001b[0m\u001b[0;34m\u001b[0m\u001b[0m\n\u001b[1;32m     22\u001b[0m         \u001b[0myhat\u001b[0m \u001b[0;34m+=\u001b[0m \u001b[0mu\u001b[0m\u001b[0;34m\u001b[0m\u001b[0;34m\u001b[0m\u001b[0m\n\u001b[0;32m---> 23\u001b[0;31m         \u001b[0my\u001b[0m\u001b[0;34m.\u001b[0m\u001b[0mappend\u001b[0m\u001b[0;34m(\u001b[0m\u001b[0myhat\u001b[0m\u001b[0;34m)\u001b[0m\u001b[0;34m\u001b[0m\u001b[0;34m\u001b[0m\u001b[0m\n\u001b[0m\u001b[1;32m     24\u001b[0m         \u001b[0mresid\u001b[0m\u001b[0;34m.\u001b[0m\u001b[0mappend\u001b[0m\u001b[0;34m(\u001b[0m\u001b[0mu\u001b[0m\u001b[0;34m)\u001b[0m\u001b[0;34m\u001b[0m\u001b[0;34m\u001b[0m\u001b[0m\n\u001b[1;32m     25\u001b[0m     \u001b[0;32mreturn\u001b[0m \u001b[0my\u001b[0m\u001b[0;34m[\u001b[0m\u001b[0minitial_length\u001b[0m\u001b[0;34m:\u001b[0m\u001b[0;34m]\u001b[0m\u001b[0;34m\u001b[0m\u001b[0;34m\u001b[0m\u001b[0m\n",
      "\u001b[0;32m~/anaconda3/envs/futures/lib/python3.7/site-packages/pandas/core/series.py\u001b[0m in \u001b[0;36mappend\u001b[0;34m(self, to_append, ignore_index, verify_integrity)\u001b[0m\n\u001b[1;32m   2780\u001b[0m             \u001b[0mto_concat\u001b[0m \u001b[0;34m=\u001b[0m \u001b[0;34m[\u001b[0m\u001b[0mself\u001b[0m\u001b[0;34m,\u001b[0m \u001b[0mto_append\u001b[0m\u001b[0;34m]\u001b[0m\u001b[0;34m\u001b[0m\u001b[0;34m\u001b[0m\u001b[0m\n\u001b[1;32m   2781\u001b[0m         return concat(\n\u001b[0;32m-> 2782\u001b[0;31m             \u001b[0mto_concat\u001b[0m\u001b[0;34m,\u001b[0m \u001b[0mignore_index\u001b[0m\u001b[0;34m=\u001b[0m\u001b[0mignore_index\u001b[0m\u001b[0;34m,\u001b[0m \u001b[0mverify_integrity\u001b[0m\u001b[0;34m=\u001b[0m\u001b[0mverify_integrity\u001b[0m\u001b[0;34m\u001b[0m\u001b[0;34m\u001b[0m\u001b[0m\n\u001b[0m\u001b[1;32m   2783\u001b[0m         )\n\u001b[1;32m   2784\u001b[0m \u001b[0;34m\u001b[0m\u001b[0m\n",
      "\u001b[0;32m~/anaconda3/envs/futures/lib/python3.7/site-packages/pandas/core/reshape/concat.py\u001b[0m in \u001b[0;36mconcat\u001b[0;34m(objs, axis, join, join_axes, ignore_index, keys, levels, names, verify_integrity, sort, copy)\u001b[0m\n\u001b[1;32m    253\u001b[0m         \u001b[0mverify_integrity\u001b[0m\u001b[0;34m=\u001b[0m\u001b[0mverify_integrity\u001b[0m\u001b[0;34m,\u001b[0m\u001b[0;34m\u001b[0m\u001b[0;34m\u001b[0m\u001b[0m\n\u001b[1;32m    254\u001b[0m         \u001b[0mcopy\u001b[0m\u001b[0;34m=\u001b[0m\u001b[0mcopy\u001b[0m\u001b[0;34m,\u001b[0m\u001b[0;34m\u001b[0m\u001b[0;34m\u001b[0m\u001b[0m\n\u001b[0;32m--> 255\u001b[0;31m         \u001b[0msort\u001b[0m\u001b[0;34m=\u001b[0m\u001b[0msort\u001b[0m\u001b[0;34m,\u001b[0m\u001b[0;34m\u001b[0m\u001b[0;34m\u001b[0m\u001b[0m\n\u001b[0m\u001b[1;32m    256\u001b[0m     )\n\u001b[1;32m    257\u001b[0m \u001b[0;34m\u001b[0m\u001b[0m\n",
      "\u001b[0;32m~/anaconda3/envs/futures/lib/python3.7/site-packages/pandas/core/reshape/concat.py\u001b[0m in \u001b[0;36m__init__\u001b[0;34m(self, objs, axis, join, join_axes, keys, levels, names, ignore_index, verify_integrity, copy, sort)\u001b[0m\n\u001b[1;32m    330\u001b[0m                     \u001b[0;34m\" only Series and DataFrame objs are valid\"\u001b[0m\u001b[0;34m.\u001b[0m\u001b[0mformat\u001b[0m\u001b[0;34m(\u001b[0m\u001b[0mtype\u001b[0m\u001b[0;34m(\u001b[0m\u001b[0mobj\u001b[0m\u001b[0;34m)\u001b[0m\u001b[0;34m)\u001b[0m\u001b[0;34m\u001b[0m\u001b[0;34m\u001b[0m\u001b[0m\n\u001b[1;32m    331\u001b[0m                 )\n\u001b[0;32m--> 332\u001b[0;31m                 \u001b[0;32mraise\u001b[0m \u001b[0mTypeError\u001b[0m\u001b[0;34m(\u001b[0m\u001b[0mmsg\u001b[0m\u001b[0;34m)\u001b[0m\u001b[0;34m\u001b[0m\u001b[0;34m\u001b[0m\u001b[0m\n\u001b[0m\u001b[1;32m    333\u001b[0m \u001b[0;34m\u001b[0m\u001b[0m\n\u001b[1;32m    334\u001b[0m             \u001b[0;31m# consolidate\u001b[0m\u001b[0;34m\u001b[0m\u001b[0;34m\u001b[0m\u001b[0;34m\u001b[0m\u001b[0m\n",
      "\u001b[0;31mTypeError\u001b[0m: cannot concatenate object of type '<class 'numpy.float64'>'; only Series and DataFrame objs are valid"
     ]
    }
   ],
   "source": [
    "periods = days * 24\n",
    "ratios = np.array([])\n",
    "for i in range(trials):\n",
    "    ratios[i] = arma_sample(model.params[0], model.arparams, model.maparams, model.sigma2, df_H['ratio'], periods)\n",
    "ratios"
   ]
  },
  {
   "cell_type": "code",
   "execution_count": 16,
   "metadata": {},
   "outputs": [],
   "source": [
    "# Generate ending perpetual prices from the index\n",
    "end_perpetual_ratio = ppc[:,0]\n",
    "end_perpetual_price = end_index_price * end_perpetual_ratio\n",
    "\n",
    "# On deribit futures are restricted to contracts of $10\n",
    "# That means your expoure might not be perfectly equal in long and short\n",
    "future_amount = round(start_future_price * btc, -1)\n",
    "perpetual_amount = round(start_perpetual_price * btc, -1)\n",
    "\n",
    "\n",
    "# Payoffs from long future, short perpetual\n",
    "long_future_payoff = future_amount * (1/start_future_price - 1/end_index_price) * end_index_price\n",
    "short_perpetual_payoff = -perpetual_amount * (1/start_perpetual_price - 1/end_perpetual_price) * end_index_price\n",
    "\n",
    "short_perpetual_profit = long_future_payoff + short_perpetual_payoff\n",
    "\n",
    "# Payoffs from short future, long perpetual\n",
    "short_future_payoff = -future_amount * (1/start_future_price - 1/end_index_price) * end_index_price\n",
    "long_perpetual_payoff = perpetual_amount * (1/start_perpetual_price - 1/end_perpetual_price) * end_index_price\n",
    "\n",
    "long_perpetual_profit = short_future_payoff + long_perpetual_payoff"
   ]
  },
  {
   "cell_type": "code",
   "execution_count": 17,
   "metadata": {},
   "outputs": [
    {
     "data": {
      "image/png": "[encoded data removed]",
      "text/plain": [
       "<Figure size 936x360 with 1 Axes>"
      ]
     },
     "metadata": {
      "needs_background": "light"
     },
     "output_type": "display_data"
    }
   ],
   "source": [
    "figsize(13, 5)\n",
    "sns.kdeplot(short_perpetual_profit, label='Long Future Short Perpetual')\n",
    "sns.kdeplot(long_perpetual_profit, label='Short Future Long Perpetual')\n",
    "plt.xlabel('Profit ($)')\n",
    "plt.ylabel('Relative Frequency')\n",
    "plt.title('Distribution of Profits Before Fees and Funding Payments')\n",
    "plt.show()"
   ]
  },
  {
   "cell_type": "markdown",
   "metadata": {},
   "source": [
    "### Fees\n",
    "\n",
    "Our model has not included any fees. So we will do those calculations and update our profits.\n",
    "\n",
    "The fees for trading on Deribit can be found [here](https://www.deribit.com/pages/information/fees)\n",
    "\n",
    "The fees are as follows all in percentage of underlying asset (negative numbers mean a rebate):\n",
    "\n",
    "Instrument | Maker Trade Fee | Taker Trade Fee | Delivery Fee\n",
    "--- | --- | --- | ---\n",
    "Future | 0.05% | -0.02% | 0.025%\n",
    "Perpetual | 0.075% | -0.025% | 0.075%\n",
    "\n",
    "Thus it is possible that we actually earn profit on trades by only setting limit orders. If only limit orders are used our total fees would be:\n",
    "\n",
    "Trade | Fees\n",
    "--- | ---\n",
    "Buy Future | -0.02%\n",
    "Sell Perpetual | -0.025%\n",
    "Settle Future | 0.025%\n",
    "Buy Perpetual | -0.025%\n",
    "\n",
    "For a total rebate of 0.045% of the underlying asset.\n",
    "\n",
    "If we used all market orders the fees would be:\n",
    "\n",
    "Trade | Fees\n",
    "--- | ---\n",
    "Buy Future | 0.05%\n",
    "Sell Perpetual | 0.075%\n",
    "Settle Future | 0.025%\n",
    "Buy Perpetual | 0.075%\n",
    "\n",
    "For a total fee amount of 0.225%."
   ]
  },
  {
   "cell_type": "code",
   "execution_count": 18,
   "metadata": {},
   "outputs": [],
   "source": [
    "taker_fees = start_index_price * 0.225 / 100\n",
    "\n",
    "maker_rebate = start_index_price * 0.045 / 100\n",
    "\n",
    "short_perpetual_taker = short_perpetual_profit - taker_fees\n",
    "short_perpetual_maker = short_perpetual_profit + maker_rebate\n",
    "\n",
    "long_perpetual_taker = long_perpetual_profit - taker_fees\n",
    "long_perpetual_maker = long_perpetual_profit + maker_rebate"
   ]
  },
  {
   "cell_type": "code",
   "execution_count": 19,
   "metadata": {},
   "outputs": [
    {
     "data": {
      "image/png": "[encoded data removed]",
      "text/plain": [
       "<Figure size 1008x288 with 1 Axes>"
      ]
     },
     "metadata": {
      "needs_background": "light"
     },
     "output_type": "display_data"
    }
   ],
   "source": [
    "figsize(14,4)\n",
    "sns.kdeplot(short_perpetual_taker, label='Taker Short Perpetual')\n",
    "sns.kdeplot(short_perpetual_maker, label='Maker Short Perpetual')\n",
    "sns.kdeplot(long_perpetual_taker, label='Taker Long Perpetual')\n",
    "sns.kdeplot(long_perpetual_maker, label='Maker Long Perpetual')\n",
    "plt.xlabel('Profit ($)')\n",
    "plt.ylabel('Relative Frequency')\n",
    "plt.title('Distribution of Profits After Fees and Before Funding Payments')\n",
    "plt.show()"
   ]
  },
  {
   "cell_type": "code",
   "execution_count": 20,
   "metadata": {},
   "outputs": [
    {
     "data": {
      "text/plain": [
       "(10000, 8660)"
      ]
     },
     "execution_count": 20,
     "metadata": {},
     "output_type": "execute_result"
    }
   ],
   "source": [
    "# Calculate funding costs\n",
    "\n",
    "# We want an average funding over the whole period.\n",
    "# Thus we calculate funding at each point in time and average\n",
    "individual_moment_funding = np.maximum(0.0005, ppc - 1) +  np.minimum(-0.0005, ppc - 1)\n",
    "\n",
    "# Now we have a bunch of estimates of funding rates at 5 min intervals.\n",
    "# We want to find the average funding rate over a 1 month period\n",
    "# To do this we average over 1 month of 5 minute intervals.\n",
    "# That corresponds to averageing over 12 * 24 * 30 = 8640 funding rate averages.\n",
    "\n",
    "individual_moment_funding.shape"
   ]
  },
  {
   "cell_type": "code",
   "execution_count": 40,
   "metadata": {},
   "outputs": [
    {
     "data": {
      "text/plain": [
       "<matplotlib.axes._subplots.AxesSubplot at 0x205ad6d7e10>"
      ]
     },
     "execution_count": 40,
     "metadata": {},
     "output_type": "execute_result"
    },
    {
     "data": {
      "image/png": "[encoded data removed]",
      "text/plain": [
       "<Figure size 720x288 with 1 Axes>"
      ]
     },
     "metadata": {
      "needs_background": "light"
     },
     "output_type": "display_data"
    }
   ],
   "source": [
    "sns.kdeplot(individual_moment_funding[69])"
   ]
  },
  {
   "cell_type": "code",
   "execution_count": 80,
   "metadata": {},
   "outputs": [],
   "source": [
    "a_f = individual_moment_funding[:,0:2].mean(axis=1)"
   ]
  },
  {
   "cell_type": "code",
   "execution_count": 81,
   "metadata": {},
   "outputs": [
    {
     "data": {
      "text/plain": [
       "<matplotlib.axes._subplots.AxesSubplot at 0x205af49c630>"
      ]
     },
     "execution_count": 81,
     "metadata": {},
     "output_type": "execute_result"
    },
    {
     "data": {
      "image/png": "[encoded data removed]",
      "text/plain": [
       "<Figure size 432x288 with 1 Axes>"
      ]
     },
     "metadata": {},
     "output_type": "display_data"
    }
   ],
   "source": [
    "sns.kdeplot(a_f, label='1')\n",
    "sns.kdeplot(df['funding'].resample('S').mean().interpolate().resample('M').mean(), label='2')"
   ]
  },
  {
   "cell_type": "code",
   "execution_count": 21,
   "metadata": {},
   "outputs": [],
   "source": [
    "# Thus we can just do a mean accross the rows, because 8660 is close to our desired 8640\n",
    "\n",
    "average_funding = individual_moment_funding.mean(axis=1)\n",
    "\n",
    "# The listed funding rates are for 8 hour intervals.\n",
    "\n",
    "funding_payments = perpetual_amount * average_funding * 3 * days"
   ]
  },
  {
   "cell_type": "code",
   "execution_count": 22,
   "metadata": {},
   "outputs": [
    {
     "data": {
      "text/plain": [
       "-74.10291794328322"
      ]
     },
     "execution_count": 22,
     "metadata": {},
     "output_type": "execute_result"
    }
   ],
   "source": [
    "funding_payments.mean()"
   ]
  },
  {
   "cell_type": "code",
   "execution_count": 23,
   "metadata": {},
   "outputs": [],
   "source": [
    "# Calculate funding costs\n",
    "\n",
    "final_short_perpetual_taker = short_perpetual_taker + funding_payments\n",
    "final_short_perpetual_maker = short_perpetual_maker + funding_payments\n",
    "\n",
    "final_long_perpetual_taker = long_perpetual_taker - funding_payments\n",
    "final_long_perpetual_maker = long_perpetual_maker - funding_payments"
   ]
  },
  {
   "cell_type": "code",
   "execution_count": 24,
   "metadata": {},
   "outputs": [
    {
     "data": {
      "image/png": "[encoded data removed]",
      "text/plain": [
       "<Figure size 1008x288 with 1 Axes>"
      ]
     },
     "metadata": {
      "needs_background": "light"
     },
     "output_type": "display_data"
    }
   ],
   "source": [
    "figsize(14,4)\n",
    "sns.kdeplot(final_short_perpetual_taker, label='Taker Short Perpetual')\n",
    "sns.kdeplot(final_short_perpetual_maker, label='Maker Short Perpetual')\n",
    "sns.kdeplot(final_long_perpetual_taker, label='Taker Long Perpetual')\n",
    "sns.kdeplot(final_long_perpetual_maker, label='Maker Long Perpetual')\n",
    "plt.xlabel('Profit ($)')\n",
    "plt.ylabel('Relative Frequency')\n",
    "plt.title('Distribution of Final Profits')\n",
    "plt.show()"
   ]
  },
  {
   "cell_type": "markdown",
   "metadata": {},
   "source": [
    "## Analysis\n",
    "\n",
    "There are a number of interesting results.\n",
    "1. The expected perpetual index ratio is just slightly below 1. This causes shorting the perpetual to have sort of a constant interest effect. The amount of this effect is quite large, resulting in an average of over \\\\$70 of funding payments.\n",
    "2. Orginally it looked like we could profit from shorting the perpetual and going long on the future, because the future was about \\\\$50 cheaper. But the \\\\$70 in funding payments from the holders of the short perpetual to the holders of the long perpetual more than compensates for that. It makes going long on the perpetual the profitable option. This is very unexpected. Basic arbitrage suggests that you should buy the cheap one and sell the expensive one. But this model suggests to buy the expensive one, and sell the cheap one becuase the funding payments will be worth it. "
   ]
  },
  {
   "cell_type": "code",
   "execution_count": 25,
   "metadata": {},
   "outputs": [
    {
     "data": {
      "text/plain": [
       "-0.08021699107093654"
      ]
     },
     "execution_count": 25,
     "metadata": {},
     "output_type": "execute_result"
    }
   ],
   "source": [
    "# Annualized average funding rate\n",
    "average_funding.mean() * 3 * 365"
   ]
  },
  {
   "cell_type": "markdown",
   "metadata": {},
   "source": [
    "The annual funding rate is about 8% to hold a short perpetual. Interestingly, 8% annually is also probably your expected interest rate while shorting bitcoin itself. And infact we would expect these rates to be similar.\n",
    "\n",
    "A short perpetual offers the exact same sort of exposure that shorting bitcoin does. Thus we expect a simliar willingness to pay interest for that exposure. Which means that the longs get payments of about 8% annually.\n",
    "\n",
    "I choose the perpetual and future prices at a random moment in time. It would be unusual if we discovered arbitrage oppurtunies in that moment, which would suggest large market inefficienes. Instead we see that the funding payments are approximaly balancing out the differne in price with potential for profits if take advantage of the maker refund. \n",
    "\n",
    "The prices I randomly selected are not that unusal. We can see here how they correspond to the historical data."
   ]
  },
  {
   "cell_type": "code",
   "execution_count": 26,
   "metadata": {},
   "outputs": [],
   "source": [
    "# Get a list of files with the historical data\n",
    "files = glob.glob('downloads/futures/*.txt')\n",
    "\n",
    "# Combine the files into one large pandas df\n",
    "data_list = []\n",
    "for file in files:\n",
    "    data = pd.read_csv(file)\n",
    "    data_list.append(data)\n",
    "df_futures = pd.concat(data_list)\n",
    "\n",
    "df_futures['ratio'] = df_futures['price'] / df_futures['index_price']\n",
    "\n",
    "instrument_names = ['BTC-27JUL18', 'BTC-31AUG18', 'BTC-28SEP18', 'BTC-28DEC18', 'BTC-29MAR19']"
   ]
  },
  {
   "cell_type": "code",
   "execution_count": 27,
   "metadata": {},
   "outputs": [
    {
     "data": {
      "image/png": "[encoded data removed]",
      "text/plain": [
       "<Figure size 720x288 with 1 Axes>"
      ]
     },
     "metadata": {
      "needs_background": "light"
     },
     "output_type": "display_data"
    }
   ],
   "source": [
    "figsize(10,4)\n",
    "for i, instrument in enumerate(instrument_names):\n",
    "    temp = df_futures[df_futures['instrument_name'] == instrument]\n",
    "    sns.kdeplot(temp['ratio'], label=instrument)\n",
    "plt.xlabel('Ratio')\n",
    "plt.ylabel('Relative Frequency')\n",
    "plt.title('Future Index Ratio Distribution')\n",
    "plt.xlim(0.95, 1.05)\n",
    "specific_ratio=start_future_price/start_index_price\n",
    "plt.axvline(x=specific_ratio, color='g', linestyle='--', label='MC Model Ratio')\n",
    "plt.legend()   \n",
    "plt.show()"
   ]
  },
  {
   "cell_type": "markdown",
   "metadata": {},
   "source": [
    "## Problems with the Model\n",
    "\n",
    "This model is almost certainly wrong. It doesn't come close to capturing the complextiy of reality. But it might be useful. Let's look at where it is probably going to break down.\n",
    "\n",
    "The single biggest assumption I made is to model the perpetual index ratio at any point in time as a random draw from a t-distribution. That is a pretty good assumption for **long** time periods. This model completely ignores the fact that the ratios from moment to moment are autocorrelated.\n",
    "\n",
    "For example. If I knew that the perpetual was trading 1% lower than the index, I would expect the price 5 minutes later to be a completely independent random number. We would expect the perpetual index ratio to still be about 0.99, maybe slightly higher or lower. We could see that in Part 2, the ratios are auto correlated for a few days. Thus this model will absolutly fail while trying to predict the profits from arbitraging a future that expires in 2 days. It will only work on longer time spans, probably greater than 2 weeks. At that point the perpetual index ratios really will resemble random draws.\n",
    "\n",
    "This error is compounded due to the funding rates. We saw from Part 2 how drastically the funding rates could vary. The funding rates hit 150% and -150% annual interest at some points. Which would mean massive transfers from longs to shorts or shorts to longs in those moments. But our model's profits are fairly consistent. By taking an arbitrage position of 1 bitcoin, our model says that your profits should fall within a ~\\\\$40 range.\n",
    "\n",
    "This is because the perpetual index ratio balances out and averages very close to 1 overtime, even if it has huge momentary swings.\n",
    "\n",
    "### Improvements\n",
    "\n",
    "To model a short term arbitrage you would absolutely need a time series model of the perpetual index ratio. My first attempt would be a random walk with pressure pushing the ratio towards 1 if the ratio goes outside the 0.9995 to 1.0005 bounds where there are no funding payments. But that is research for another day."
   ]
  },
  {
   "cell_type": "markdown",
   "metadata": {},
   "source": [
    "## Rate of Return\n",
    "\n",
    "The model suggests that going long on the perpetual and going short on the future would result in profits. Our profits seemed to be within the range of \\\\$0 to \\\\$40, with an mode at about \\\\$20. But those profits require margin to be posted for the futures.\n",
    "\n",
    "Deribit has a portfolio margin system where your required margin is a function of your total portfolio risk due to bitcoin price fluctions. The details are [here](https://www.deribit.com/pages/docs/portfoliomargin). As we are neutral on bitcoin, our required margin is only 1.2%. But we would still need margin to cover fluctuations in the funding rate.\n",
    "\n",
    "My 90% confidence interval (CI) is that you would want more than 2% and less than 5% of your exposure in the perpetual. This is just based on a quick reading of the portfolio margin system and some quick calculations about how much you would have to pay if you got unlucky with funding rates for a few days in a row. More experimentation with Deribit's trading system would be needed to reduce this uncertainty.\n",
    "\n",
    "So I will use a random number drawn from a normal distribution to model the amount of margin required."
   ]
  },
  {
   "cell_type": "code",
   "execution_count": 29,
   "metadata": {},
   "outputs": [],
   "source": [
    "# There are 3.29 standard deviatins in a 90% CI\n",
    "\n",
    "margin_sd = (0.05 - 0.02) / 3.29\n",
    "margin_mean = (0.05 + 0.02) / 2\n",
    "\n",
    "margin_percent = margin_mean + margin_sd * np.random.randn(trials)\n",
    "\n",
    "# Margin is at least 1.2%\n",
    "# Elementwise max\n",
    "margin_percent = np.maximum(margin_percent, 0.012)\n",
    "\n",
    "margin_amount = margin_percent * perpetual_amount"
   ]
  },
  {
   "cell_type": "markdown",
   "metadata": {},
   "source": [
    "## Margin Risk\n",
    "\n",
    "Depositing margin at Deribit means holding the margin in bitcoins while you wait for the future to expire. This exposes you to bitcoin risk as your margin will be worth more or less as the price changes. We can see that in the following graph."
   ]
  },
  {
   "cell_type": "code",
   "execution_count": 30,
   "metadata": {},
   "outputs": [
    {
     "data": {
      "image/png": "[encoded data removed]",
      "text/plain": [
       "<Figure size 720x288 with 1 Axes>"
      ]
     },
     "metadata": {
      "needs_background": "light"
     },
     "output_type": "display_data"
    }
   ],
   "source": [
    "final_margin = margin_percent * end_index_price\n",
    "\n",
    "margin_profit = final_margin - margin_amount\n",
    "\n",
    "sns.kdeplot(margin_profit)\n",
    "plt.ylabel('Relative Frequency')\n",
    "plt.xlabel('Margin Profit ($)')\n",
    "#plt.xlim(-50,300)\n",
    "plt.show()"
   ]
  },
  {
   "cell_type": "markdown",
   "metadata": {},
   "source": [
    "This makes our strategy extremly risky. A better solution is to short the perpetual for the amount we have in margin."
   ]
  },
  {
   "cell_type": "code",
   "execution_count": 31,
   "metadata": {},
   "outputs": [
    {
     "data": {
      "image/png": "[encoded data removed]",
      "text/plain": [
       "<Figure size 720x288 with 1 Axes>"
      ]
     },
     "metadata": {
      "needs_background": "light"
     },
     "output_type": "display_data"
    }
   ],
   "source": [
    "margin_funding_payments = margin_amount * average_funding * 3 * days\n",
    "\n",
    "sns.kdeplot(margin_funding_payments)\n",
    "plt.ylabel('Relative Frequency')\n",
    "plt.xlabel('Amount ($)')\n",
    "plt.title('Total Funding Payments on Margin')\n",
    "#plt.xlim(-50,300)\n",
    "plt.show()"
   ]
  },
  {
   "cell_type": "markdown",
   "metadata": {},
   "source": [
    "## Calculating Rate of Return"
   ]
  },
  {
   "cell_type": "code",
   "execution_count": 32,
   "metadata": {},
   "outputs": [],
   "source": [
    "profit = final_long_perpetual_maker + margin_funding_payments\n",
    "\n",
    "# Rate of Return (simple annualized) on the long perpetual strategy\n",
    "\n",
    "RR = (profit / margin_amount) * (365 / days) * 100"
   ]
  },
  {
   "cell_type": "code",
   "execution_count": 33,
   "metadata": {},
   "outputs": [
    {
     "data": {
      "image/png": "[encoded data removed]",
      "text/plain": [
       "<Figure size 720x288 with 1 Axes>"
      ]
     },
     "metadata": {
      "needs_background": "light"
     },
     "output_type": "display_data"
    }
   ],
   "source": [
    "sns.kdeplot(RR)\n",
    "plt.ylabel('Relative Frequency')\n",
    "plt.xlabel('Annual Return (%)')\n",
    "#plt.xlim(-50,300)\n",
    "plt.show()"
   ]
  },
  {
   "cell_type": "code",
   "execution_count": 34,
   "metadata": {},
   "outputs": [
    {
     "data": {
      "text/plain": [
       "60.80886536449513"
      ]
     },
     "execution_count": 34,
     "metadata": {},
     "output_type": "execute_result"
    }
   ],
   "source": [
    "RR.mean()"
   ]
  },
  {
   "cell_type": "code",
   "execution_count": 35,
   "metadata": {},
   "outputs": [
    {
     "data": {
      "text/plain": [
       "38.1283940892174"
      ]
     },
     "execution_count": 35,
     "metadata": {},
     "output_type": "execute_result"
    }
   ],
   "source": [
    "RR.std()"
   ]
  },
  {
   "cell_type": "markdown",
   "metadata": {},
   "source": [
    "## Decision Theory\n",
    "\n",
    "I would like to see is how sensitive our model is to certain parameters. We can use a tool from decision theory to tell us which parameters are worth getting better estimates of.\n",
    "\n",
    "First we will see how the expected return varies as a function of our model parameters. We can do this by only looking at the modeled situations that happened to have a parameter fall within a specific range."
   ]
  },
  {
   "cell_type": "code",
   "execution_count": 36,
   "metadata": {},
   "outputs": [],
   "source": [
    "def linear_transform(x, xs):\n",
    "    max_xs = np.max(xs)\n",
    "    min_xs = np.min(xs)\n",
    "    return (x - min_xs) / (max_xs - min_xs)"
   ]
  },
  {
   "cell_type": "code",
   "execution_count": 37,
   "metadata": {},
   "outputs": [
    {
     "data": {
      "text/plain": [
       "array([6677.2765675 , 7507.00731916, 7422.52099285, ..., 9338.01629844,\n",
       "       8724.6417235 , 8471.90589938])"
      ]
     },
     "execution_count": 37,
     "metadata": {},
     "output_type": "execute_result"
    }
   ],
   "source": [
    "end_index_price"
   ]
  },
  {
   "cell_type": "code",
   "execution_count": 38,
   "metadata": {},
   "outputs": [
    {
     "data": {
      "image/png": "[encoded data removed]",
      "text/plain": [
       "<Figure size 576x288 with 1 Axes>"
      ]
     },
     "metadata": {
      "needs_background": "light"
     },
     "output_type": "display_data"
    }
   ],
   "source": [
    "figsize(8,4)\n",
    "\n",
    "btc_price_change = end_index_price / start_index_price - 1\n",
    "labels = ['BTC Price Change', 'Final Perpetual Index Ratio', 'Funding Rate', 'Required Margin']\n",
    "input_variables = [btc_price_change, end_perpetual_ratio, average_funding, margin_percent]\n",
    "\n",
    "# Sensitivity analysis\n",
    "# expected value as each variable changes\n",
    "\n",
    "for index, input_variable in enumerate(input_variables):\n",
    "    # split variable into groups\n",
    "    step = (input_variable.max() - input_variable.min())/20\n",
    "    ys = []\n",
    "    xs = np.linspace(input_variable.min(), input_variable.max(), 100)\n",
    "    for i in xs:\n",
    "        ## values where input_variable is close to i\n",
    "        bool_array = np.logical_and(input_variable < i + step, input_variable > i - step)\n",
    "        ys.append(RR[bool_array].mean())\n",
    "    \n",
    "    # transform xs to be on scale of 0 to 1 for the graph\n",
    "    linear_xs = []\n",
    "    for x in xs:\n",
    "        linear_xs.append(linear_transform(x, xs))\n",
    "    plt.plot(linear_xs, ys, label=labels[index])\n",
    "\n",
    "plt.xlabel('Min Value to Max Value of Each Variable')\n",
    "plt.ylabel('Expected Annualized RR (%)')\n",
    "plt.title('Effects of Variable Changes on Expected RR')\n",
    "plt.legend()\n",
    "plt.show()"
   ]
  },
  {
   "cell_type": "markdown",
   "metadata": {},
   "source": [
    "Most of these variables are normally distributed. So there are going to be very few samples near the max and min values. This explains the variance of the RR in the bottom and top 10% of parameter values."
   ]
  },
  {
   "cell_type": "markdown",
   "metadata": {},
   "source": [
    "## Expected Value of Information\n",
    "\n",
    "The final perpetual index ratio, average funding rate, and required margin all had a large effect on the expected return. But the final bitcoin price did not. It had a small effect because we are not able to perfectly match our long and short exposure due to the minimum contract sizes on Deribit. But this shows that it is generally a bitcoin neutral strategy and shows that reducing uncertainty about the final bitcoin price wouldn't contribute to our decision.\n",
    "\n",
    "However, knowing the exact value of the other variables would be very valuable. In particular, if we knew ahead of time that the perpetual index ratio was going to be low, or if the average funding rate was going to be high, we could choose not to invest and avoid the low RR.\n",
    "\n",
    "You can quantify the value of that knowledge. It's called the Expected Value of Perfect Information. It's the benefit you get from being omnicienst about some of the unknown quantities in your model.\n",
    "\n",
    "First we define a loss function. This is the amount that we would have lost if our decision turns out to be incorrect.\n",
    "\n",
    "In this example our loss function should be comparing a traditional investment to this bitcoin arbitrage strategy.\n",
    "\n",
    "Our volatiltiy of returns for this strategy are quite high. Plus we face counterparty risk. For the purposes of example lets assume that we prefer a typical index fund if this strategy has less than 25% ER. In reality this would depend on your personal portfolio.\n",
    "\n",
    "Next we compute the Expected Opurtunity Loss. This is the expected loss if we choose to arbitrage and it turns out that we made the wrong decision, the rate of return was less then 25%."
   ]
  },
  {
   "cell_type": "code",
   "execution_count": 39,
   "metadata": {},
   "outputs": [
    {
     "data": {
      "text/plain": [
       "1.8051095446388885"
      ]
     },
     "execution_count": 39,
     "metadata": {},
     "output_type": "execute_result"
    }
   ],
   "source": [
    "# Expected Oppurtunity loss if you take the long perpetual arbitrage strateygy\n",
    "Loss = RR - 25\n",
    "EOL = -Loss[Loss < 0].sum()/len(Loss)\n",
    "EOL"
   ]
  },
  {
   "cell_type": "markdown",
   "metadata": {},
   "source": [
    "That means our expected loss from uncertainty is 1.8% in returns. If we could elimated the uncertianty in our model, we would only reduce the expected loss from making a bad decision by 1.8%. Which is not that much.\n",
    "\n",
    "## Expected Value of Perfect Partial Information\n",
    "\n",
    "We can see which parameter has most influence by setting a decision rule and seeing how much our EOL decreases.\n",
    "\n",
    "Let's look at each parameter to determine an investment decision rule. From the above graph we see that this strategy is always over 25% return for every value of the bitcoin price change and for every value of the required margin. Thus we know that reducing uncertainty about thos variables will not influence our decision. So they have an information value of 0."
   ]
  },
  {
   "cell_type": "code",
   "execution_count": 40,
   "metadata": {},
   "outputs": [
    {
     "data": {
      "image/png": "[encoded data removed]",
      "text/plain": [
       "<Figure size 576x288 with 3 Axes>"
      ]
     },
     "metadata": {
      "needs_background": "light"
     },
     "output_type": "display_data"
    }
   ],
   "source": [
    "figsize(8,4)\n",
    "fig, (ax1, ax2) = plt.subplots(2, gridspec_kw={'hspace': 0.5, 'wspace': 0.1})\n",
    "fig.suptitle('Effect on RR')\n",
    "\n",
    "# Add big axis for common label\n",
    "fig.add_subplot(111, frameon=False)\n",
    "# hide tick and tick label of the big axis\n",
    "plt.tick_params(labelcolor='none', top=False, bottom=False, left=False, right=False)\n",
    "plt.grid(b=None)\n",
    "plt.ylabel(\"Expected RR (%)\")\n",
    "\n",
    "colors = ['b','r']\n",
    "\n",
    "# Sensitivity analysis\n",
    "# expected value as each variable changes\n",
    "for index, input_variable in enumerate([end_perpetual_ratio, average_funding]):\n",
    "    step = (input_variable.max() - input_variable.min())/20\n",
    "    ys = []\n",
    "    xs = np.linspace(input_variable.min(), input_variable.max(), 50)\n",
    "    for i in xs:\n",
    "        ## values where var is close to i\n",
    "        bool_array = np.logical_and(input_variable < i + step, input_variable > i - step)\n",
    "        ys.append(RR[bool_array].mean())\n",
    "    fig.axes[index].plot(xs, ys, color=colors[index])\n",
    "\n",
    "ax1.set_xlabel('Final Perpetual Index Ratio')\n",
    "ax2.set_xlabel('Funding Rate')\n",
    "ax1.axhline(y=25, color='g', linestyle='--')\n",
    "ax2.axhline(y=25, color='g', linestyle='--')\n",
    "plt.show()"
   ]
  },
  {
   "cell_type": "markdown",
   "metadata": {},
   "source": [
    "If we had perfect information we would know not to use this strategy anytime the final perpetual index ratio was below 0.998, and anytime the average funding rate is less than about -0.000065"
   ]
  },
  {
   "cell_type": "code",
   "execution_count": 41,
   "metadata": {},
   "outputs": [
    {
     "data": {
      "text/plain": [
       "1.5159815182769"
      ]
     },
     "execution_count": 41,
     "metadata": {},
     "output_type": "execute_result"
    }
   ],
   "source": [
    "# Only take investment if we know ratio > 0.998\n",
    "bool_array = np.logical_and(Loss < 0, end_perpetual_ratio > 0.998)\n",
    "EOL_with_ratio_knowledge = -Loss[bool_array].sum()/len(Loss)\n",
    "EOL_with_ratio_knowledge"
   ]
  },
  {
   "cell_type": "code",
   "execution_count": 42,
   "metadata": {},
   "outputs": [
    {
     "data": {
      "text/plain": [
       "0.2891280263619884"
      ]
     },
     "execution_count": 42,
     "metadata": {},
     "output_type": "execute_result"
    }
   ],
   "source": [
    "EVPPI_ratio = EOL - EOL_with_ratio_knowledge\n",
    "EVPPI_ratio"
   ]
  },
  {
   "cell_type": "code",
   "execution_count": 43,
   "metadata": {},
   "outputs": [
    {
     "data": {
      "text/plain": [
       "0.8090044204654081"
      ]
     },
     "execution_count": 43,
     "metadata": {},
     "output_type": "execute_result"
    }
   ],
   "source": [
    "# Only take investment if we know funding rate < -0.000065\n",
    "bool_array = np.logical_and(Loss < 0, average_funding < -0.000065)\n",
    "EOL_with_funding_knowledge = -Loss[bool_array].sum()/len(Loss)\n",
    "EOL_with_funding_knowledge"
   ]
  },
  {
   "cell_type": "code",
   "execution_count": 44,
   "metadata": {},
   "outputs": [
    {
     "data": {
      "text/plain": [
       "0.9961051241734804"
      ]
     },
     "execution_count": 44,
     "metadata": {},
     "output_type": "execute_result"
    }
   ],
   "source": [
    "EVPPI_funding = EOL - EOL_with_funding_knowledge\n",
    "EVPPI_funding"
   ]
  },
  {
   "cell_type": "markdown",
   "metadata": {},
   "source": [
    "## EVPPI Results\n",
    "\n",
    "Removing all uncertainty about the average funding rate is worth 1% more in returns. Removing all uncertainty in the final perpetual index ratio is worth 0.29% in returns. Having complete information of our model is worth 1.8% in returns.\n",
    "\n",
    "These are all low numbers. Thus it doesn't seem worth it to reduce our uncertainy about these variables by collecting more data on funding rates."
   ]
  },
  {
   "cell_type": "markdown",
   "metadata": {},
   "source": [
    "# Conclusion\n",
    "\n",
    "We created a model that can be used to predict the profitiability of an arbitrage strategy given any future and perpetual prices. If this model is accurate at all, it will be accurate over longer time spans, and should only be used if the future expiration date is more than a few weeks in advance. This model could be turned into an algorithmic trading strategy. It would likely be too slow to run on every live price update. Instead you could run the simulation for a wide variety of future/perpetual price ratios, determine which combinations fit your investment strategy and cache the results for use in a lookup table.\n",
    "\n",
    "The most promising next step would be to identify a time series model of the perpetual index ratio. That would allow shorter term arbitrage as well as a whole host of other strategies.\n",
    "\n",
    "In the next part we will look at the actual profitability of the specific example we used and see how it compares with the model."
   ]
  },
  {
   "cell_type": "code",
   "execution_count": 32,
   "metadata": {},
   "outputs": [],
   "source": [
    "t = df_5Min['funding'].resample('D').mean().resample('W').mean().resample('M').mean()"
   ]
  },
  {
   "cell_type": "code",
   "execution_count": 33,
   "metadata": {},
   "outputs": [
    {
     "data": {
      "text/plain": [
       "<matplotlib.axes._subplots.AxesSubplot at 0x205802e07f0>"
      ]
     },
     "execution_count": 33,
     "metadata": {},
     "output_type": "execute_result"
    },
    {
     "data": {
      "image/png": "[encoded data removed]",
      "text/plain": [
       "<Figure size 720x288 with 1 Axes>"
      ]
     },
     "metadata": {
      "needs_background": "light"
     },
     "output_type": "display_data"
    }
   ],
   "source": [
    "sns.kdeplot(t, label='real')\n",
    "sns.kdeplot(average_funding, label='model')"
   ]
  },
  {
   "cell_type": "code",
   "execution_count": null,
   "metadata": {},
   "outputs": [],
   "source": [
    "t = df['funding'].resample('M').mean()\n",
    "sns.kdeplot(t)\n",
    "sns.kdeplot(average_funding)"
   ]
  },
  {
   "cell_type": "code",
   "execution_count": 28,
   "metadata": {},
   "outputs": [
    {
     "data": {
      "text/plain": [
       "<matplotlib.axes._subplots.AxesSubplot at 0x20582913940>"
      ]
     },
     "execution_count": 28,
     "metadata": {},
     "output_type": "execute_result"
    },
    {
     "data": {
      "image/png": "[encoded data removed]",
      "text/plain": [
       "<Figure size 720x288 with 1 Axes>"
      ]
     },
     "metadata": {
      "needs_background": "light"
     },
     "output_type": "display_data"
    }
   ],
   "source": [
    "sns.kdeplot(average_funding)"
   ]
  },
  {
   "cell_type": "code",
   "execution_count": 35,
   "metadata": {},
   "outputs": [
    {
     "data": {
      "text/plain": [
       "<matplotlib.axes._subplots.AxesSubplot at 0x20580508cf8>"
      ]
     },
     "execution_count": 35,
     "metadata": {},
     "output_type": "execute_result"
    },
    {
     "data": {
      "image/png": "[encoded data removed]",
      "text/plain": [
       "<Figure size 720x288 with 1 Axes>"
      ]
     },
     "metadata": {
      "needs_background": "light"
     },
     "output_type": "display_data"
    }
   ],
   "source": [
    "sns.kdeplot(end_perpetual_ratio, label='model')\n",
    "sns.kdeplot(df_5Min['ratio'], label='real')"
   ]
  }
 ],
 "metadata": {
  "kernelspec": {
   "display_name": "Python 3",
   "language": "python",
   "name": "python3"
  },
  "language_info": {
   "codemirror_mode": {
    "name": "ipython",
    "version": 3
   },
   "file_extension": ".py",
   "mimetype": "text/x-python",
   "name": "python",
   "nbconvert_exporter": "python",
   "pygments_lexer": "ipython3",
   "version": "3.7.4"
  }
 },
 "nbformat": 4,
 "nbformat_minor": 2
}
